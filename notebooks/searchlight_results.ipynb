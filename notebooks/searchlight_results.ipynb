{
 "metadata": {
  "name": "",
  "signature": "sha256:9ea02eabb7576f1a26c6e65302e904950c06a8285b1506f0da372cf5c067f0df"
 },
 "nbformat": 3,
 "nbformat_minor": 0,
 "worksheets": [
  {
   "cells": [
    {
     "cell_type": "code",
     "collapsed": false,
     "input": [
      "import numpy as np\n",
      "%pylab --no-import-all inline\n",
      "\n",
      "from mvpa2.mappers.detrend import poly_detrend\n",
      "from mvpa2.mappers.zscore import ZScoreMapper\n",
      "from mvpa2.mappers.zscore import zscore\n",
      "from util.openfmri import load_openfmri_ds\n",
      "\n",
      "from mvpa2.clfs.knn import kNN\n",
      "from mvpa2.clfs.distance import one_minus_correlation\n",
      "from mvpa2.clfs.svm import LinearCSVMC\n",
      "from mvpa2.generators.partition import NFoldPartitioner\n",
      "from mvpa2.generators.partition import HalfPartitioner\n",
      "from mvpa2.measures.base import CrossValidation\n",
      "from mvpa2.measures.searchlight import sphere_searchlight"
     ],
     "language": "python",
     "metadata": {},
     "outputs": [
      {
       "output_type": "stream",
       "stream": "stdout",
       "text": [
        "Populating the interactive namespace from numpy and matplotlib\n"
       ]
      }
     ],
     "prompt_number": 3
    },
    {
     "cell_type": "code",
     "collapsed": false,
     "input": [
      "ds=load_openfmri_ds('../data/ds107','sub001')"
     ],
     "language": "python",
     "metadata": {},
     "outputs": [],
     "prompt_number": 20
    },
    {
     "cell_type": "code",
     "collapsed": false,
     "input": [
      "from mvpa2.datasets.mri import map2nifti\n",
      "img=map2nifti(ds,ds.samples[0])\n",
      "img.to_filename('anatomy.nii.gz')\n",
      "img.shape"
     ],
     "language": "python",
     "metadata": {},
     "outputs": [
      {
       "metadata": {},
       "output_type": "pyout",
       "prompt_number": 25,
       "text": [
        "(64, 64, 35)"
       ]
      }
     ],
     "prompt_number": 25
    },
    {
     "cell_type": "code",
     "collapsed": false,
     "input": [
      "from glob import glob\n",
      "import os.path\n",
      "import re\n",
      "slight_results={}\n",
      "for filename in glob('*.npy'):\n",
      "    m=re.match('linearCSVMC_radius_(?P<radius>\\d+)\\.npy',filename)\n",
      "    if m:\n",
      "        slight_results[int(m.group('radius'))]=np.load(filename)[1]"
     ],
     "language": "python",
     "metadata": {},
     "outputs": [],
     "prompt_number": 7
    },
    {
     "cell_type": "code",
     "collapsed": false,
     "input": [
      "def stats((radius,res)):\n",
      "    print radius\n",
      "    print 'mean', np.mean(res)\n",
      "    print 'max', np.max(res)\n",
      "    print 'min', np.min(res)\n",
      "    print 'var', np.var(res)"
     ],
     "language": "python",
     "metadata": {},
     "outputs": [
      {
       "output_type": "stream",
       "stream": "stdout",
       "text": [
        "\n"
       ]
      }
     ],
     "prompt_number": 10
    },
    {
     "cell_type": "code",
     "collapsed": false,
     "input": [
      "plt.hist(slight_results[10], bins=100)"
     ],
     "language": "python",
     "metadata": {},
     "outputs": [
      {
       "metadata": {},
       "output_type": "pyout",
       "prompt_number": 8,
       "text": [
        "(array([  3.00000000e+00,   0.00000000e+00,   0.00000000e+00,\n",
        "          3.20000000e+01,   0.00000000e+00,   0.00000000e+00,\n",
        "          1.65000000e+02,   0.00000000e+00,   0.00000000e+00,\n",
        "          5.81000000e+02,   0.00000000e+00,   0.00000000e+00,\n",
        "          1.42000000e+03,   0.00000000e+00,   0.00000000e+00,\n",
        "          2.60900000e+03,   0.00000000e+00,   0.00000000e+00,\n",
        "          4.12700000e+03,   0.00000000e+00,   0.00000000e+00,\n",
        "          5.96300000e+03,   0.00000000e+00,   0.00000000e+00,\n",
        "          7.77600000e+03,   0.00000000e+00,   0.00000000e+00,\n",
        "          0.00000000e+00,   9.70300000e+03,   0.00000000e+00,\n",
        "          0.00000000e+00,   1.12110000e+04,   0.00000000e+00,\n",
        "          0.00000000e+00,   1.20310000e+04,   0.00000000e+00,\n",
        "          0.00000000e+00,   1.26540000e+04,   0.00000000e+00,\n",
        "          0.00000000e+00,   1.23920000e+04,   0.00000000e+00,\n",
        "          0.00000000e+00,   1.16860000e+04,   0.00000000e+00,\n",
        "          0.00000000e+00,   9.97400000e+03,   0.00000000e+00,\n",
        "          0.00000000e+00,   0.00000000e+00,   8.21400000e+03,\n",
        "          0.00000000e+00,   0.00000000e+00,   6.21500000e+03,\n",
        "          0.00000000e+00,   0.00000000e+00,   4.94300000e+03,\n",
        "          0.00000000e+00,   0.00000000e+00,   3.94700000e+03,\n",
        "          0.00000000e+00,   0.00000000e+00,   3.21400000e+03,\n",
        "          0.00000000e+00,   0.00000000e+00,   2.72000000e+03,\n",
        "          0.00000000e+00,   0.00000000e+00,   2.38000000e+03,\n",
        "          0.00000000e+00,   0.00000000e+00,   2.22000000e+03,\n",
        "          0.00000000e+00,   0.00000000e+00,   0.00000000e+00,\n",
        "          2.10400000e+03,   0.00000000e+00,   0.00000000e+00,\n",
        "          1.80500000e+03,   0.00000000e+00,   0.00000000e+00,\n",
        "          1.46400000e+03,   0.00000000e+00,   0.00000000e+00,\n",
        "          8.97000000e+02,   0.00000000e+00,   0.00000000e+00,\n",
        "          5.23000000e+02,   0.00000000e+00,   0.00000000e+00,\n",
        "          2.50000000e+02,   0.00000000e+00,   0.00000000e+00,\n",
        "          1.12000000e+02,   0.00000000e+00,   0.00000000e+00,\n",
        "          2.40000000e+01,   0.00000000e+00,   0.00000000e+00,\n",
        "          1.00000000e+00]),\n",
        " array([ 0.04545455,  0.05272727,  0.06      ,  0.06727273,  0.07454545,\n",
        "         0.08181818,  0.08909091,  0.09636364,  0.10363636,  0.11090909,\n",
        "         0.11818182,  0.12545455,  0.13272727,  0.14      ,  0.14727273,\n",
        "         0.15454545,  0.16181818,  0.16909091,  0.17636364,  0.18363636,\n",
        "         0.19090909,  0.19818182,  0.20545455,  0.21272727,  0.22      ,\n",
        "         0.22727273,  0.23454545,  0.24181818,  0.24909091,  0.25636364,\n",
        "         0.26363636,  0.27090909,  0.27818182,  0.28545455,  0.29272727,\n",
        "         0.3       ,  0.30727273,  0.31454545,  0.32181818,  0.32909091,\n",
        "         0.33636364,  0.34363636,  0.35090909,  0.35818182,  0.36545455,\n",
        "         0.37272727,  0.38      ,  0.38727273,  0.39454545,  0.40181818,\n",
        "         0.40909091,  0.41636364,  0.42363636,  0.43090909,  0.43818182,\n",
        "         0.44545455,  0.45272727,  0.46      ,  0.46727273,  0.47454545,\n",
        "         0.48181818,  0.48909091,  0.49636364,  0.50363636,  0.51090909,\n",
        "         0.51818182,  0.52545455,  0.53272727,  0.54      ,  0.54727273,\n",
        "         0.55454545,  0.56181818,  0.56909091,  0.57636364,  0.58363636,\n",
        "         0.59090909,  0.59818182,  0.60545455,  0.61272727,  0.62      ,\n",
        "         0.62727273,  0.63454545,  0.64181818,  0.64909091,  0.65636364,\n",
        "         0.66363636,  0.67090909,  0.67818182,  0.68545455,  0.69272727,\n",
        "         0.7       ,  0.70727273,  0.71454545,  0.72181818,  0.72909091,\n",
        "         0.73636364,  0.74363636,  0.75090909,  0.75818182,  0.76545455,\n",
        "         0.77272727]),\n",
        " <a list of 100 Patch objects>)"
       ]
      },
      {
       "metadata": {},
       "output_type": "display_data",
       "png": "[encoded data removed]",
       "text": [
        "<matplotlib.figure.Figure at 0x7ff2768e5f10>"
       ]
      }
     ],
     "prompt_number": 8
    },
    {
     "cell_type": "code",
     "collapsed": false,
     "input": [
      "map(stats, slight_results.items())"
     ],
     "language": "python",
     "metadata": {},
     "outputs": [
      {
       "output_type": "stream",
       "stream": "stdout",
       "text": [
        "2\n",
        "mean 0.26380757914\n",
        "max 0.659090909091\n",
        "min 0.0227272727273\n",
        "var 0.00487279705544\n",
        "3\n",
        "mean 0.274581631747\n",
        "max 0.727272727273\n",
        "min 0.0227272727273\n",
        "var 0.00582472339167\n",
        "4\n",
        "mean 0.284004984274\n",
        "max 0.727272727273\n",
        "min 0.0227272727273\n",
        "var 0.00670242381942\n",
        "5\n",
        "mean 0.296036202567\n",
        "max 0.75\n",
        "min 0.0\n",
        "var 0.00791550709335\n",
        "6\n",
        "mean 0.308703613281\n",
        "max 0.75\n",
        "min 0.0\n",
        "var 0.00913835138206\n",
        "10\n",
        "mean 0.349405977323\n",
        "max 0.772727272727\n",
        "min 0.0454545454545\n",
        "var 0.0132239009661\n"
       ]
      },
      {
       "metadata": {},
       "output_type": "pyout",
       "prompt_number": 11,
       "text": [
        "[None, None, None, None, None, None]"
       ]
      }
     ],
     "prompt_number": 11
    },
    {
     "cell_type": "code",
     "collapsed": false,
     "input": [
      "import math\n",
      "def get_spheres(ds, centers, radius=10):\n",
      "    def euclid_distance(x,y):\n",
      "        return math.sqrt((x[0]-y[0])**2 + (x[1]-y[1])**2 + (x[2]-y[2])**2)\n",
      "    def compare_to_center(voxel):\n",
      "        for c in centers:\n",
      "            if euclid_distance(ds.fa.voxel_indices[voxel], ds.fa.voxel_indices[c]) <= radius:\n",
      "                return True\n",
      "        return False\n",
      "    return filter(compare_to_center, xrange(ds.shape[1]))"
     ],
     "language": "python",
     "metadata": {},
     "outputs": [],
     "prompt_number": 22
    },
    {
     "cell_type": "code",
     "collapsed": false,
     "input": [
      "centers=map(lambda y: y[0],filter(lambda x: x[1] > 0.70,enumerate(slight_results[5])))\n",
      "len(centers)"
     ],
     "language": "python",
     "metadata": {},
     "outputs": [
      {
       "metadata": {},
       "output_type": "pyout",
       "prompt_number": 37,
       "text": [
        "11"
       ]
      }
     ],
     "prompt_number": 37
    },
    {
     "cell_type": "code",
     "collapsed": false,
     "input": [
      "sphrs=get_spheres(ds, centers, radius=5)\n",
      "len(sphrs)"
     ],
     "language": "python",
     "metadata": {},
     "outputs": [
      {
       "metadata": {},
       "output_type": "pyout",
       "prompt_number": 38,
       "text": [
        "3023"
       ]
      }
     ],
     "prompt_number": 38
    },
    {
     "cell_type": "code",
     "collapsed": false,
     "input": [
      "ds_r10 = ds[0,sphrs]\n",
      "ds_r10.shape\n",
      "i=map2nifti(ds_r10,ds_r10.samples[0])\n",
      "i.to_filename('r5_ext.nii.gz')"
     ],
     "language": "python",
     "metadata": {},
     "outputs": [],
     "prompt_number": 39
    }
   ],
   "metadata": {}
  }
 ]
}