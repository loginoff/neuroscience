{
 "metadata": {
  "name": "",
  "signature": "sha256:4a62bfb58775e4fa49a9d03cefd5dcf4e9c347efe78f7ab834c50c5ad76f4f7f"
 },
 "nbformat": 3,
 "nbformat_minor": 0,
 "worksheets": [
  {
   "cells": [
    {
     "cell_type": "code",
     "collapsed": false,
     "input": [
      "import numpy as np\n",
      "from mvpa2.misc.io import SampleAttributes\n",
      "from mvpa2.datasets import vstack\n",
      "from mvpa2.mappers.detrend import PolyDetrendMapper\n",
      "from mvpa2.mappers.detrend import poly_detrend\n",
      "from mvpa2.mappers.zscore import ZScoreMapper\n",
      "from mvpa2.mappers.zscore import zscore\n",
      "from mvpa2.clfs.knn import kNN\n",
      "from mvpa2.clfs.svm import LinearCSVMC\n",
      "from mvpa2.clfs.distance import one_minus_correlation\n",
      "from mvpa2.mappers.fx import BinaryFxNode\n",
      "from mvpa2.mappers.fx import mean_group_sample\n",
      "from mvpa2.generators.partition import HalfPartitioner\n",
      "from mvpa2.generators.partition import NFoldPartitioner\n",
      "from mvpa2.measures.base import CrossValidation\n",
      "from util.openfmri import load_openfmri_ds\n",
      "%pylab --no-import-all inline"
     ],
     "language": "python",
     "metadata": {},
     "outputs": [
      {
       "output_type": "stream",
       "stream": "stdout",
       "text": [
        "Populating the interactive namespace from numpy and matplotlib\n"
       ]
      }
     ],
     "prompt_number": 22
    },
    {
     "cell_type": "code",
     "collapsed": false,
     "input": [
      "ds=load_openfmri_ds('../data/ds107','sub001')\n",
      "detrender = PolyDetrendMapper(polyord=1, chunks_attr='chunks')\n",
      "poly_detrend(ds, polyord=1, chunks_attr='chunks')"
     ],
     "language": "python",
     "metadata": {},
     "outputs": [],
     "prompt_number": 23
    },
    {
     "cell_type": "code",
     "collapsed": false,
     "input": [],
     "language": "python",
     "metadata": {},
     "outputs": []
    },
    {
     "cell_type": "code",
     "collapsed": false,
     "input": [
      "zscorer = ZScoreMapper(param_est=('targets',['rest']))\n",
      "zscore(ds, param_est=('targets',['rest']))"
     ],
     "language": "python",
     "metadata": {},
     "outputs": [],
     "prompt_number": 8
    },
    {
     "cell_type": "code",
     "collapsed": false,
     "input": [
      "print np.min(ds.samples)\n",
      "print np.max(ds.samples)\n",
      "ds[ds.sa.chunks==0]"
     ],
     "language": "python",
     "metadata": {},
     "outputs": [
      {
       "output_type": "stream",
       "stream": "stdout",
       "text": [
        "-10.8208481379\n",
        "107.503488468\n"
       ]
      },
      {
       "metadata": {},
       "output_type": "pyout",
       "prompt_number": 27,
       "text": [
        "Dataset(array([], shape=(0, 143360), dtype=float64), sa=SampleAttributesCollection(items=[ArrayCollectable(name='chunks', doc=None, value=array([], dtype=float64), length=0), ArrayCollectable(name='time_indices', doc=None, value=array([], dtype=int64), length=0), ArrayCollectable(name='task', doc=None, value=array([], dtype=float64), length=0), ArrayCollectable(name='targets', doc=None, value=array([], \n",
        "      dtype='|S17'), length=0), ArrayCollectable(name='time_coords', doc=None, value=array([], dtype=float64), length=0)]), fa=FeatureAttributesCollection(items=[ArrayCollectable(name='voxel_indices', doc=None, value=array([[ 0,  0,  0],\n",
        "       [ 0,  0,  1],\n",
        "       [ 0,  0,  2],\n",
        "       ..., \n",
        "       [63, 63, 32],\n",
        "       [63, 63, 33],\n",
        "       [63, 63, 34]]), length=143360)]), a=DatasetAttributesCollection(items=[Collectable(name='mapper', doc=None, value=ChainMapper(nodes=[FlattenMapper(shape=(64, 64, 35), auto_train=True, space='voxel_indices'), PolyDetrendMapper(polyord=1, chunks_attr='chunks', opt_regs=None, chunks_attr='chunks'), ZScoreMapper(param_est=('targets', ['rest']), chunks_attr='chunks')])), Collectable(name='imgtype', doc=None, value=<class 'nibabel.nifti1.Nifti1Image'>), Collectable(name='imghdr', doc=None, value=<nibabel.nifti1.Nifti1Header object at 0x7f45a3e2ad90>), Collectable(name='voxel_dim', doc=None, value=(64, 64, 35)), Collectable(name='voxel_eldim', doc=None, value=(3.0, 3.0, 3.0))]))"
       ]
      }
     ],
     "prompt_number": 27
    },
    {
     "cell_type": "code",
     "collapsed": false,
     "input": [
      "averager=mean_group_sample(['targets','chunks'])"
     ],
     "language": "python",
     "metadata": {},
     "outputs": [],
     "prompt_number": 66
    },
    {
     "cell_type": "code",
     "collapsed": false,
     "input": [
      "ds=ds.get_mapped(averager)"
     ],
     "language": "python",
     "metadata": {},
     "outputs": [],
     "prompt_number": 67
    },
    {
     "cell_type": "code",
     "collapsed": false,
     "input": [
      "ds.shape"
     ],
     "language": "python",
     "metadata": {},
     "outputs": [
      {
       "metadata": {},
       "output_type": "pyout",
       "prompt_number": 4,
       "text": [
        "(328, 143360)"
       ]
      }
     ],
     "prompt_number": 4
    },
    {
     "cell_type": "code",
     "collapsed": false,
     "input": [
      "clf = kNN(k=1, dfx=one_minus_correlation, voting='majority')\n",
      "partitioner = NFoldPartitioner()\n",
      "cv = CrossValidation(clf,partitioner,\n",
      "                     errorfx=lambda p,t: np.mean(p==t),\n",
      "                     enable_ca=['stats'])"
     ],
     "language": "python",
     "metadata": {},
     "outputs": [],
     "prompt_number": 11
    },
    {
     "cell_type": "code",
     "collapsed": false,
     "input": [
      "results = cv(ds)\n",
      "print np.mean(results.samples)"
     ],
     "language": "python",
     "metadata": {},
     "outputs": [
      {
       "output_type": "stream",
       "stream": "stdout",
       "text": [
        "0.231707317073\n"
       ]
      }
     ],
     "prompt_number": 12
    },
    {
     "cell_type": "code",
     "collapsed": false,
     "input": [
      "cv.ca.stats.plot()"
     ],
     "language": "python",
     "metadata": {},
     "outputs": [
      {
       "metadata": {},
       "output_type": "pyout",
       "prompt_number": 13,
       "text": [
        "(<matplotlib.figure.Figure at 0x7f1e2563b550>,\n",
        " <matplotlib.image.AxesImage at 0x7f1e2b972bd0>,\n",
        " <matplotlib.colorbar.Colorbar instance at 0x7f1e2b9211b8>)"
       ]
      },
      {
       "metadata": {},
       "output_type": "display_data",
       "png": "[encoded data removed]",
       "text": [
        "<matplotlib.figure.Figure at 0x7f1e2563b550>"
       ]
      }
     ],
     "prompt_number": 13
    }
   ],
   "metadata": {}
  }
 ]
}