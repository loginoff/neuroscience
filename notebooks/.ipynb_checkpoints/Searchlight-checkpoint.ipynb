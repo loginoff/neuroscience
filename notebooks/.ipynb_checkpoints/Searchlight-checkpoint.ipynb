{
 "metadata": {
  "name": "",
  "signature": "sha256:56d876a0f5d930b15f0ec5037ebf306d59c9d192abd8c8ff594e93306006e6c5"
 },
 "nbformat": 3,
 "nbformat_minor": 0,
 "worksheets": [
  {
   "cells": [
    {
     "cell_type": "code",
     "collapsed": false,
     "input": [
      "import numpy as np\n",
      "%pylab --no-import-all inline\n",
      "\n",
      "from mvpa2.mappers.detrend import poly_detrend\n",
      "from mvpa2.mappers.zscore import ZScoreMapper\n",
      "from mvpa2.mappers.zscore import zscore\n",
      "from util.openfmri import load_openfmri_ds"
     ],
     "language": "python",
     "metadata": {},
     "outputs": [
      {
       "output_type": "stream",
       "stream": "stdout",
       "text": [
        "Populating the interactive namespace from numpy and matplotlib\n"
       ]
      }
     ],
     "prompt_number": 3
    },
    {
     "cell_type": "markdown",
     "metadata": {},
     "source": [
      "We load in the data for a single subject using our own little utility function.\n",
      "By default it load all the runs for the subject and also find a corresponding class label\n",
      "for each sample (\"targets\" attribute)\n",
      "\n",
      "Initial preprocessing of the data consists of linear detrending and zscoring.\n",
      "Both are done in place."
     ]
    },
    {
     "cell_type": "code",
     "collapsed": false,
     "input": [
      "ds=load_openfmri_ds('../data/ds107','sub001')\n",
      "poly_detrend(ds, polyord=1, chunks_attr='chunks')\n",
      "zscore(ds, param_est=('targets',['rest']))"
     ],
     "language": "python",
     "metadata": {},
     "outputs": [],
     "prompt_number": 4
    },
    {
     "cell_type": "code",
     "collapsed": false,
     "input": [
      "def group_count(data):\n",
      "    def counter(acc, curr):\n",
      "        if curr in acc:\n",
      "            acc[curr]+=1\n",
      "        else:\n",
      "            acc[curr]=1\n",
      "        return acc\n",
      "    \n",
      "    return reduce(counter, data,{})"
     ],
     "language": "python",
     "metadata": {},
     "outputs": [],
     "prompt_number": 25
    },
    {
     "cell_type": "code",
     "collapsed": false,
     "input": [
      "def create_folds(ds, nrfolds, targets_attribute='targets', folds_attribute='folds'):\n",
      "    counts={}\n",
      "    def calc_fold(elem):\n",
      "        if elem in counts:\n",
      "            counts[elem]+=1\n",
      "            return counts[elem] % nrfolds\n",
      "        else:\n",
      "            counts[elem]=1\n",
      "            return 1%nrfolds\n",
      "    ds.sa[folds_attribute]=map(calc_fold, ds.sa[targets_attribute])"
     ],
     "language": "python",
     "metadata": {},
     "outputs": [],
     "prompt_number": 29
    },
    {
     "cell_type": "code",
     "collapsed": false,
     "input": [
      "create_folds(ds,10)"
     ],
     "language": "python",
     "metadata": {},
     "outputs": [],
     "prompt_number": 33
    },
    {
     "cell_type": "code",
     "collapsed": false,
     "input": [
      "group_count(ds.sa.folds)"
     ],
     "language": "python",
     "metadata": {},
     "outputs": [
      {
       "metadata": {},
       "output_type": "pyout",
       "prompt_number": 34,
       "text": [
        "{0: 30, 1: 35, 2: 35, 3: 35, 4: 34, 5: 34, 6: 34, 7: 31, 8: 30, 9: 30}"
       ]
      }
     ],
     "prompt_number": 34
    }
   ],
   "metadata": {}
  }
 ]
}