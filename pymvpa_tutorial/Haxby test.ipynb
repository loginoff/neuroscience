{
 "metadata": {
  "name": "",
  "signature": "sha256:2ce500af6af16bbe9442a00ffc980725f8f9312cea0c5ca10289eebeea5c1e50"
 },
 "nbformat": 3,
 "nbformat_minor": 0,
 "worksheets": [
  {
   "cells": [
    {
     "cell_type": "code",
     "collapsed": false,
     "input": [
      "import os\n",
      "import glob\n",
      "import numpy as np\n",
      "import nibabel as nb\n",
      "from mvpa2.datasets.mri import fmri_dataset\n",
      "from mvpa2.misc.io import SampleAttributes\n",
      "from mvpa2.datasets import vstack\n",
      "from mvpa2.mappers.detrend import PolyDetrendMapper\n",
      "from mvpa2.mappers.detrend import poly_detrend\n",
      "from mvpa2.mappers.zscore import ZScoreMapper\n",
      "from mvpa2.mappers.zscore import zscore\n",
      "from mvpa2.clfs.knn import kNN\n",
      "from mvpa2.clfs.svm import LinearCSVMC\n",
      "from mvpa2.clfs.distance import one_minus_correlation\n",
      "from mvpa2.mappers.fx import BinaryFxNode\n",
      "from mvpa2.mappers.fx import mean_group_sample\n",
      "from mvpa2.generators.partition import HalfPartitioner\n",
      "from mvpa2.generators.partition import NFoldPartitioner\n",
      "from mvpa2.measures.base import CrossValidation\n",
      "%pylab --no-import-all inline"
     ],
     "language": "python",
     "metadata": {},
     "outputs": [
      {
       "output_type": "stream",
       "stream": "stdout",
       "text": [
        "Populating the interactive namespace from numpy and matplotlib\n"
       ]
      }
     ],
     "prompt_number": 1
    },
    {
     "cell_type": "markdown",
     "metadata": {},
     "source": [
      "I found actually 3 different datasets for the Haxby et al. 2001 paper. All of them contain different values for the voxels. Is this normal? Maybe they just used some different preprocessing steps?\n",
      "<ul>\n",
      "<li>Tutorial dataset 0.2 (2011) - The voxel data is contained in one single file.\n",
      "Contains all 12 runs for subject 1 neatly concatenated into a single dataset (1452 volumes).\n",
      "Also has an attributes.txt file, which maps a stimulus condition to each of the volumes\n",
      "(eg. shoe, scissors etc). Nowhere do they mention how is this file generated, how did they implement the mapping.\n",
      "</li>\n",
      "<li>\n",
      "Tutorial dataset 0.3 (2014) - This resembles the format of openfmri.org data. Contains all the 12 runs of subject 1 in separate files. Instead of a convenient attributes.txt file, this datasets contains onset times for each run describing when in time (from the start of the run) a specific experiment condition (image) started and the duration. Very incovenient to map to volumes. Also contains some masks for the voxel data. Only when using the VT mask did I manage to replicate the classifier performance in the tutorials.\n",
      "</li>\n",
      "<li>\n",
      "Openfmri.org data - Basically the same format as the second Tutorial dataset, but contains data for all the six subjects. Also has different values for the onsets of each condition. Does not contain any masks. Without the masks from the second tutorial dataset, I would not have known how to replicate the results using this dataset alone.\n",
      "</li>\n",
      "</ul>"
     ]
    },
    {
     "cell_type": "markdown",
     "metadata": {},
     "source": [
      "This block takes care of parsing the different condition onsets from the supplemental data for each run, maps these onsets (which are in seconds from the beginning of each run) onto brain volumes and stores them as sample attributes to the dataset, basically association each volume in the dataset with an image that was shown to the subject when the volume was scanned."
     ]
    },
    {
     "cell_type": "code",
     "collapsed": false,
     "input": [
      "condition_key = {\n",
      "'cond001':'house',\n",
      "'cond002':'scrambledpix',\n",
      "'cond003':'cat',\n",
      "'cond004':'shoe',\n",
      "'cond005':'bottle',\n",
      "'cond006':'scissors',\n",
      "'cond007':'chair',\n",
      "'cond008':'face',\n",
      "}\n",
      "TR=2.5\n",
      "def parse_targets(onset_path, ds):\n",
      "    targets = np.chararray(ds.shape[0],itemsize=12)\n",
      "    targets[:] = 'rest'\n",
      "    condfiles=glob.glob(os.path.join(onset_path,'cond*'))\n",
      "    for cfile in condfiles:\n",
      "        condition = os.path.basename(cfile).rstrip('.txt')\n",
      "        with open(cfile,'r') as f:\n",
      "            for line in f:\n",
      "                start, duration, weight = line.split()\n",
      "                startidx = float(start) / TR\n",
      "                endidx = (float(start)+float(duration)) / TR\n",
      "                targets[int(startidx):int(endidx)+1] = condition_key[condition]\n",
      "    ds.sa['targets']=targets"
     ],
     "language": "python",
     "metadata": {},
     "outputs": [],
     "prompt_number": 2
    },
    {
     "cell_type": "markdown",
     "metadata": {},
     "source": [
      "Load the data for subject 1 for all 12 runs and concatenate into a single dataset. Here we use the dataset from openfmri.org, but the mask is taken from the second tutorial dataset."
     ]
    },
    {
     "cell_type": "code",
     "collapsed": false,
     "input": [
      "#boldpath = '../tutorial_data/data/sub001/BOLD/task001_run0%02d/bold.nii.gz'\n",
      "boldpath = '../data/ds105/sub001/BOLD/task001_run0%02d/bold.nii.gz'\n",
      "#boldpath = '../ds105/sub001/BOLD/task001_run0%02d/bold.nii.gz'\n",
      "#onset_path = '../tutorial_data/data/sub001/model/model001/onsets/task001_run0%02d'\n",
      "onset_path = '../data/ds105/sub001/model/model001/onsets/task001_run0%02d/'\n",
      "maskpath = '../data/ds105/mask_vt.nii.gz'\n",
      "ds = fmri_dataset(samples=boldpath % 1, mask=maskpath)\n",
      "parse_targets(onset_path % 1,ds)\n",
      "ds.sa['chunks']=np.zeros(len(ds))\n",
      "\n",
      "#For some reason the time coordinate information for each volume is wrong \n",
      "#in the openfmri.org data. The comment can be removed to correct this information\n",
      "#ds.sa.time_coords=ds.sa.time_coords*TR\n",
      "\n",
      "for i in xrange(2,13):\n",
      "    dsi = fmri_dataset(samples=boldpath % i, mask=maskpath)\n",
      "    parse_targets(onset_path % i, dsi)\n",
      "    chunks = np.empty(len(dsi))\n",
      "    chunks[:]=i-1\n",
      "    dsi.sa['chunks']=chunks\n",
      "    #dsi.sa.time_coords=dsi.sa.time_coords*TR\n",
      "    \n",
      "    #ds=vstack((ds,dsi),0)\n",
      "    ds.append(dsi)"
     ],
     "language": "python",
     "metadata": {},
     "outputs": [
      {
       "output_type": "stream",
       "stream": "stdout",
       "text": [
        "WARNING: AttrDataset.append() is deprecated and will be removed. Instead of ds.append(x) use: ds = vstack((ds, x), a=0)\n",
        " * Please note: warnings are printed only once, but underlying problem might occur many times *\n"
       ]
      }
     ],
     "prompt_number": 3
    },
    {
     "cell_type": "markdown",
     "metadata": {},
     "source": [
      "We get 1452 volumes from the 12 runs and thanks to the mask only 577 voxels instead on > ~160K"
     ]
    },
    {
     "cell_type": "code",
     "collapsed": false,
     "input": [
      "ds.shape"
     ],
     "language": "python",
     "metadata": {},
     "outputs": [
      {
       "metadata": {},
       "output_type": "pyout",
       "prompt_number": 12,
       "text": [
        "(96, 577)"
       ]
      }
     ],
     "prompt_number": 12
    },
    {
     "cell_type": "code",
     "collapsed": false,
     "input": [
      "ds.save('kristjanile.hdf5')"
     ],
     "language": "python",
     "metadata": {},
     "outputs": [],
     "prompt_number": 5
    },
    {
     "cell_type": "code",
     "collapsed": false,
     "input": [
      "#poly_detrend(ds, polyord=1, chunks_attr='chunks')\n",
      "#detrender = PolyDetrendMapper(polyord=1, chunks_attr='chunks')\n",
      "#detrended_ds = ds.get_mapped(detrender)"
     ],
     "language": "python",
     "metadata": {},
     "outputs": [],
     "prompt_number": 11
    },
    {
     "cell_type": "code",
     "collapsed": false,
     "input": [
      "# do chunkswise linear detrending on dataset\n",
      "#poly_detrend(ds, polyord=1, chunks_attr='chunks', space='time_coords')\n",
      "poly_detrend(ds, polyord=1, chunks_attr='chunks')\n",
      "\n",
      "# zscore dataset relative to baseline ('rest') mean\n",
      "zscore(ds, param_est=('targets', ['rest']))\n",
      "\n",
      "# exclude the rest condition from the dataset\n",
      "ds = ds[ds.sa.targets != 'rest']\n",
      "\n",
      "# compute the mean sample per condition and run\n",
      "ds = ds.get_mapped(mean_group_sample(['targets', 'chunks']))"
     ],
     "language": "python",
     "metadata": {},
     "outputs": [],
     "prompt_number": 6
    },
    {
     "cell_type": "markdown",
     "metadata": {},
     "source": [
      "These preprocessing steps are copied from the tutorials. I still have no idea what exactly poly_detrend and zscore do. The mean_group_sample function calculates the mean of all the sample volumes for each class and for all the runs separately.\n",
      "There were 9 classes, but since we remove the \"rest\" class, we reduced our 1452 sample volumes down to 96 (eight classes for 12 different runs respectively)"
     ]
    },
    {
     "cell_type": "code",
     "collapsed": false,
     "input": [
      "ds.shape"
     ],
     "language": "python",
     "metadata": {},
     "outputs": [
      {
       "metadata": {},
       "output_type": "pyout",
       "prompt_number": 7,
       "text": [
        "(96, 577)"
       ]
      }
     ],
     "prompt_number": 7
    },
    {
     "cell_type": "markdown",
     "metadata": {},
     "source": [
      "We apply a linear SVM classifier to our samples. Partition our dataset into 12 folds (the 12 runs) and do a leave one out cross validation. We use accuracy (the % of correctly classified instances) as our error function."
     ]
    },
    {
     "cell_type": "code",
     "collapsed": false,
     "input": [
      "#clf = kNN(k=1, dfx=one_minus_correlation, voting='majority')\n",
      "clf = LinearCSVMC()\n",
      "partitioner = NFoldPartitioner()\n",
      "cv = CrossValidation(clf,partitioner,\n",
      "                     errorfx=lambda p,t: np.mean(p==t),\n",
      "                     enable_ca=['stats'])"
     ],
     "language": "python",
     "metadata": {},
     "outputs": [],
     "prompt_number": 8
    },
    {
     "cell_type": "markdown",
     "metadata": {},
     "source": [
      "The average accuracy of all test runs"
     ]
    },
    {
     "cell_type": "code",
     "collapsed": false,
     "input": [
      "results = cv(ds)\n",
      "print np.mean(results.samples)"
     ],
     "language": "python",
     "metadata": {},
     "outputs": [
      {
       "output_type": "stream",
       "stream": "stdout",
       "text": [
        "0.729166666667\n"
       ]
      }
     ],
     "prompt_number": 9
    },
    {
     "cell_type": "markdown",
     "metadata": {},
     "source": [
      "Also the confusion matrix:"
     ]
    },
    {
     "cell_type": "code",
     "collapsed": false,
     "input": [
      "cv.ca.stats.plot()"
     ],
     "language": "python",
     "metadata": {},
     "outputs": [
      {
       "metadata": {},
       "output_type": "pyout",
       "prompt_number": 10,
       "text": [
        "(<matplotlib.figure.Figure at 0x7faf6191cf50>,\n",
        " <matplotlib.image.AxesImage at 0x7faf615cd910>,\n",
        " <matplotlib.colorbar.Colorbar instance at 0x7faf615155a8>)"
       ]
      },
      {
       "metadata": {},
       "output_type": "display_data",
       "png": "[encoded data removed]",
       "text": [
        "<matplotlib.figure.Figure at 0x7faf6191cf50>"
       ]
      }
     ],
     "prompt_number": 10
    },
    {
     "cell_type": "markdown",
     "metadata": {},
     "source": [
      "The results seem roughly comparable to the Haxby et al. paper. They also concluded that faces, houses and nonsense pictures were clearly identifiable, with more misclassifications happening for smaller objects."
     ]
    }
   ],
   "metadata": {}
  }
 ]
}