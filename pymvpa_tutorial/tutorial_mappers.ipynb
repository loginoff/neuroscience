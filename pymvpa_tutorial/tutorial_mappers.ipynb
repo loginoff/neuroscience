{
 "metadata": {
  "name": "",
  "signature": "sha256:a9e46f20ec7fdd121783390610dfab9f34632e3c84d653bb9158547b27bfe7c1"
 },
 "nbformat": 3,
 "nbformat_minor": 0,
 "worksheets": [
  {
   "cells": [
    {
     "cell_type": "heading",
     "level": 1,
     "metadata": {},
     "source": [
      "Data transformation -- Mappers"
     ]
    },
    {
     "cell_type": "markdown",
     "metadata": {},
     "source": [
      "\n",
      "\n",
      "In the tutorial part *chap_tutorial_datasets* we have discovered a\n",
      "magic ingredient of datasets: a [Mapper](http://pymvpa.org/generated/mvpa2.mappers.base.Mapper.html#mvpa2-mappers-base-mapper). Mappers are probably the most\n",
      "powerful concept in PyMVPA, and there is little one would do without them.\n",
      "\n",
      "In general, a mapper is an algorithm that transforms data.\n",
      "This transformation can be as simple as selecting a subset of data, or as\n",
      "complex as a multi-stage preprocessing pipeline. Some transformations are\n",
      "reversible, others are not. Some are simple one-step computations, others\n",
      "are iterative algorithms that have to be trained on data before they can be\n",
      "used. In PyMVPA, all these transformations are [mappers](http://pymvpa.org/generated/mvpa2.mappers.html#mvpa2-mappers)."
     ]
    },
    {
     "cell_type": "markdown",
     "metadata": {},
     "source": [
      "- - -\n",
      "*Note*\n",
      "\n",
      "\n",
      "\n",
      "If you are an \n",
      "[MDP](http://mdp-toolkit.sourceforge.net/)-user you probably have realized the similarity of MDP's\n",
      "nodes and PyMVPA's mappers.\n",
      "- - -\n"
     ]
    },
    {
     "cell_type": "markdown",
     "metadata": {},
     "source": [
      "\n",
      "\n",
      "Let's create a dummy dataset (5 samples, 12 features). This time we will use a\n",
      "new method to create the dataset, the `dataset_wizard`. Here it is, fully\n",
      "equivalent to a regular constructor call (i.e.  [Dataset](http://pymvpa.org/generated/mvpa2.datasets.base.Dataset.html#mvpa2-datasets-base-dataset)),\n",
      "but we will shortly see some nice convenience aspects."
     ]
    },
    {
     "cell_type": "code",
     "collapsed": false,
     "input": [
      "from mvpa2.tutorial_suite import *\n",
      "ds = dataset_wizard(np.ones((5, 12)))\n",
      "ds.shape"
     ],
     "language": "python",
     "metadata": {},
     "outputs": [
      {
       "output_type": "stream",
       "stream": "stderr",
       "text": [
        "/usr/lib/python2.7/dist-packages/sklearn/pls.py:7: DeprecationWarning: This module has been moved to cross_decomposition and will be removed in 0.16\n",
        "  \"removed in 0.16\", DeprecationWarning)\n",
        "/usr/lib/python2.7/dist-packages/sklearn/linear_model/coordinate_descent.py:553: DeprecationWarning: rho was renamed to l1_ratio and will be removed in 0.15\n",
        "  \"in 0.15\", DeprecationWarning)\n"
       ]
      },
      {
       "metadata": {},
       "output_type": "pyout",
       "prompt_number": 1,
       "text": [
        "(5, 12)"
       ]
      }
     ],
     "prompt_number": 1
    },
    {
     "cell_type": "markdown",
     "metadata": {},
     "source": [
      "\n",
      "\n",
      "Some datasets (such as the ones [fmri_dataset()](http://pymvpa.org/generated/mvpa2.datasets.mri.fmri_dataset.html#mvpa2-datasets-mri-fmri-dataset) with a\n",
      "mask) contain mappers as a [dataset attribute](http://pymvpa.org/glossary.html#term-dataset-attribute) `.a.mapper`.\n",
      "However, not every dataset actually has\n",
      "a mapper. For example, the simple one we have just created doesn't have any:"
     ]
    },
    {
     "cell_type": "code",
     "collapsed": false,
     "input": [
      "'mapper' in ds.a"
     ],
     "language": "python",
     "metadata": {},
     "outputs": [
      {
       "metadata": {},
       "output_type": "pyout",
       "prompt_number": 2,
       "text": [
        "False"
       ]
      }
     ],
     "prompt_number": 2
    },
    {
     "cell_type": "markdown",
     "metadata": {},
     "source": [
      "\n",
      "\n",
      "Now let's look at a very similar dataset that only differs in a tiny but\n",
      "a very important detail:"
     ]
    },
    {
     "cell_type": "code",
     "collapsed": false,
     "input": [
      "ds = dataset_wizard(np.ones((5, 4, 3)))\n",
      "ds.shape"
     ],
     "language": "python",
     "metadata": {},
     "outputs": [
      {
       "metadata": {},
       "output_type": "pyout",
       "prompt_number": 3,
       "text": [
        "(5, 12)"
       ]
      }
     ],
     "prompt_number": 3
    },
    {
     "cell_type": "code",
     "collapsed": false,
     "input": [
      "'mapper' in ds.a"
     ],
     "language": "python",
     "metadata": {},
     "outputs": []
    },
    {
     "cell_type": "code",
     "collapsed": false,
     "input": [
      "print ds.a.mapper"
     ],
     "language": "python",
     "metadata": {},
     "outputs": [
      {
       "output_type": "stream",
       "stream": "stdout",
       "text": [
        "<FlattenMapper>\n"
       ]
      }
     ],
     "prompt_number": 4
    },
    {
     "cell_type": "markdown",
     "metadata": {},
     "source": [
      "\n",
      "\n",
      "We see that the resulting dataset looks identical to the one above, but this time\n",
      "it got created from a 3D samples array (i.e. five samples, where each is a 4x3\n",
      "matrix). Somehow this 3D array got transformed into a 2D samples array in the\n",
      "dataset. This magic behavior is unveiled by observing that the dataset's mapper\n",
      "is a [FlattenMapper](http://pymvpa.org/generated/mvpa2.mappers.flatten.FlattenMapper.html#mvpa2-mappers-flatten-flattenmapper).\n",
      "\n",
      "The purpose of this mapper is precisely what we have just observed: reshaping\n",
      "data arrays into 2D. It does it by preserving the first axis (in PyMVPA datasets\n",
      "this is the axis that separates the samples) and concatenates all other axis\n",
      "into the second one.\n",
      "\n",
      "Since mappers represent particular transformations they can also be seen as a\n",
      "protocol of what has been done. If we look at the dataset, we know that it had\n",
      "been flattened on the way from its origin to a samples array in a dataset. This\n",
      "feature can become really useful, if the processing become more complex. Let's\n",
      "look at a possible next step -- selecting a subset of interesting features:"
     ]
    },
    {
     "cell_type": "code",
     "collapsed": false,
     "input": [
      "myfavs = [1, 2, 8, 10]\n",
      "subds = ds[:, myfavs]\n",
      "subds.shape"
     ],
     "language": "python",
     "metadata": {},
     "outputs": [
      {
       "metadata": {},
       "output_type": "pyout",
       "prompt_number": 5,
       "text": [
        "(5, 4)"
       ]
      }
     ],
     "prompt_number": 5
    },
    {
     "cell_type": "code",
     "collapsed": false,
     "input": [
      "'mapper' in subds.a"
     ],
     "language": "python",
     "metadata": {},
     "outputs": [
      {
       "metadata": {},
       "output_type": "pyout",
       "prompt_number": 6,
       "text": [
        "True"
       ]
      }
     ],
     "prompt_number": 6
    },
    {
     "cell_type": "code",
     "collapsed": false,
     "input": [
      "print subds.a.mapper"
     ],
     "language": "python",
     "metadata": {},
     "outputs": [
      {
       "output_type": "stream",
       "stream": "stdout",
       "text": [
        "<Chain: <Flatten>-<StaticFeatureSelection>>\n"
       ]
      }
     ],
     "prompt_number": 7
    },
    {
     "cell_type": "markdown",
     "metadata": {},
     "source": [
      "\n",
      "\n",
      "Now the situation has changed: *two* new mappers appeared in the dataset -- a\n",
      "[ChainMapper](http://pymvpa.org/generated/mvpa2.mappers.base.ChainMapper.html#mvpa2-mappers-base-chainmapper) and a [StaticFeatureSelection](http://pymvpa.org/generated/mvpa2.featsel.base.StaticFeatureSelection.html#mvpa2-featsel-base-staticfeatureselection).\n",
      "The latter describes (and actually performs) the slicing operation we just made,\n",
      "while the former encapsulates the two mappers into a processing pipeline.\n",
      "We can see that the mapper chain represents the processing history of the\n",
      "dataset like a breadcrumb track.\n",
      "\n",
      "As it has been mentioned, mappers not only can transform a single dataset, but\n",
      "can be fed with other data (as long as it is compatible with the mapper)."
     ]
    },
    {
     "cell_type": "code",
     "collapsed": false,
     "input": [
      "fwdtest = np.arange(12).reshape(4,3)\n",
      "print fwdtest"
     ],
     "language": "python",
     "metadata": {},
     "outputs": [
      {
       "output_type": "stream",
       "stream": "stdout",
       "text": [
        "[[ 0  1  2]\n",
        " [ 3  4  5]\n",
        " [ 6  7  8]\n",
        " [ 9 10 11]]\n"
       ]
      }
     ],
     "prompt_number": 8
    },
    {
     "cell_type": "code",
     "collapsed": false,
     "input": [
      "fmapped = subds.a.mapper.forward1(fwdtest)\n",
      "fmapped.shape"
     ],
     "language": "python",
     "metadata": {},
     "outputs": [
      {
       "metadata": {},
       "output_type": "pyout",
       "prompt_number": 9,
       "text": [
        "(4,)"
       ]
      }
     ],
     "prompt_number": 9
    },
    {
     "cell_type": "code",
     "collapsed": false,
     "input": [
      "print fmapped"
     ],
     "language": "python",
     "metadata": {},
     "outputs": [
      {
       "output_type": "stream",
       "stream": "stdout",
       "text": [
        "[ 1  2  8 10]\n"
       ]
      }
     ],
     "prompt_number": 10
    },
    {
     "cell_type": "markdown",
     "metadata": {},
     "source": [
      "\n",
      "\n",
      "Although `subds` has less features than our input data, forward mapping applies\n",
      "the same transformation that had been done to the dataset itself also to our\n",
      "test 4x3 array. The procedure yields a feature vector of the same shape as the\n",
      "one in `subds`. By looking at the forward-mapped data, we can verify that the\n",
      "correct features have been chosen.\n",
      "\n",
      "We have pretty much all the pieces to start a first analysis.  We know how to\n",
      "load fMRI data from time series images, we know how to add and access\n",
      "attributes in a dataset, we know how to slice datasets, and we know that we can\n",
      "manipulate datasets with mappers.\n",
      "\n",
      "Now our goal is to combine all these little pieces into the code that produces\n",
      "a dataset like the one used in the seminal work by *Haxby et al. (2001)* -- a study were participants passively watched gray scale images of\n",
      "eight object categories in a block-design experiment. From the raw BOLD time\n",
      "series, of which we have the full 12 recording runs of the first subject, they\n",
      "computed:\n",
      "\n",
      "> A *pattern of activation* for each stimulus category in each half of the\n",
      "data (split by odd vs. even runs; i.e. 16 samples), including the\n",
      "associated [sample attribute](http://pymvpa.org/glossary.html#term-sample-attribute)s that are necessary to perform a\n",
      "cross-validated classification analysis of the data.\n",
      "\n",
      "We have already seen how fMRI data can be loaded from NIfTI images, but this\n",
      "time we need more than just the EPI images. For a classification analysis we\n",
      "also need to associate each sample with a corresponding experimental condition,\n",
      "i.e. a class label, also sometimes called [target](http://pymvpa.org/glossary.html#term-target) value.  Moreover, for\n",
      "a cross-validation procedure we also need to partition the full dataset into,\n",
      "presumably, independent [chunk](http://pymvpa.org/glossary.html#term-chunk)s. Independence is critical to achieve an\n",
      "unbiased estimate of the generalization performance of a classifier, i.e. its\n",
      "accuracy in predicting the correct class label for new data, unseen during\n",
      "training. So, where do we get this information from?\n",
      "\n",
      "Both, target values and chunks are defined by the design of the experiment.\n",
      "In the simplest case the target value for an fMRI volume sample is the\n",
      "experiment condition that has been present/active while the volume has been\n",
      "acquired. However, there are more complicated scenarios which we will look\n",
      "at later on. Chunks of independent data correspond to what fMRI volumes are\n",
      "assumed to be independent. The properties of the MRI acquisition process\n",
      "cause subsequently acquired volumes to be *very* similar, hence they cannot\n",
      "be considered independent. Ideally, the experiment is split into several\n",
      "acquisition sessions, where the sessions define the corresponding data\n",
      "chunks.\n",
      "\n",
      "There are many ways to import this information into PyMVPA. The most simple\n",
      "one is to create a two-column text file that has the target value in the\n",
      "first column, and the chunk identifier in the second, with one line per\n",
      "volume in the NIfTI image."
     ]
    },
    {
     "cell_type": "code",
     "collapsed": false,
     "input": [
      "datapath = os.path.join(tutorial_data_path, 'data')\n",
      "attr = SampleAttributes(os.path.join(datapath, 'attributes.txt'))\n",
      "len(attr.targets)"
     ],
     "language": "python",
     "metadata": {},
     "outputs": []
    },
    {
     "cell_type": "code",
     "collapsed": false,
     "input": [
      "print np.unique(attr.targets)"
     ],
     "language": "python",
     "metadata": {},
     "outputs": []
    },
    {
     "cell_type": "code",
     "collapsed": false,
     "input": [
      "len(attr.chunks)"
     ],
     "language": "python",
     "metadata": {},
     "outputs": []
    },
    {
     "cell_type": "code",
     "collapsed": false,
     "input": [
      "print np.unique(attr.chunks)"
     ],
     "language": "python",
     "metadata": {},
     "outputs": []
    },
    {
     "cell_type": "markdown",
     "metadata": {},
     "source": [
      "\n",
      "\n",
      "[SampleAttributes](http://pymvpa.org/generated/mvpa2.misc.io.base.SampleAttributes.html#mvpa2-misc-io-base-sampleattributes) allows us to load this type of file, and access its\n",
      "content. We got 1452 label and chunk values, one for each volume. Moreover,\n",
      "we see that there are nine different conditions and 12 different chunks.\n",
      "\n",
      "Now we can load the fMRI data, as we have done before -- only loading\n",
      "voxels corresponding to a mask of ventral temporal cortex, and assign the\n",
      "samples attributes to the dataset. [fmri_dataset()](http://pymvpa.org/generated/mvpa2.datasets.mri.fmri_dataset.html#mvpa2-datasets-mri-fmri-dataset) allows us to pass them\n",
      "directly:"
     ]
    },
    {
     "cell_type": "code",
     "collapsed": false,
     "input": [
      "fds = fmri_dataset(samples=os.path.join(datapath, 'bold.nii.gz'),\n",
      "                   targets=attr.targets, chunks=attr.chunks,\n",
      "                   mask=os.path.join(datapath, 'mask_vt.nii.gz'))\n",
      "fds.shape"
     ],
     "language": "python",
     "metadata": {},
     "outputs": []
    },
    {
     "cell_type": "code",
     "collapsed": false,
     "input": [
      "print fds.sa"
     ],
     "language": "python",
     "metadata": {},
     "outputs": []
    },
    {
     "cell_type": "markdown",
     "metadata": {},
     "source": [
      "\n",
      "\n",
      "We got the dataset that we already know from the last part, but this time\n",
      "is also has information about chunks and targets.  Now it is a good time to\n",
      "obtain a [summary()](http://pymvpa.org/generated/mvpa2.datasets.miscfx.summary.html#mvpa2-datasets-miscfx-summary) overview of the dataset: basic\n",
      "statistics, balance in number of samples among targets per chunk, etc.:"
     ]
    },
    {
     "cell_type": "code",
     "collapsed": false,
     "input": [
      "print fds.summary()"
     ],
     "language": "python",
     "metadata": {},
     "outputs": []
    },
    {
     "cell_type": "markdown",
     "metadata": {},
     "source": [
      "\n",
      "\n",
      "The next step is to extract the *patterns of activation* from the dataset\n",
      "that we are interested in. But wait! We know that fMRI data is\n",
      "typically contaminated with a lot of noise, or actually *information* that\n",
      "we are not interested in. For example, there are temporal drifts in the\n",
      "data (the signal tends to increase when the scanner is warming up). We\n",
      "also know that the signal is not fully homogeneous throughout the brain.\n",
      "\n",
      "All these artifacts carry a lot of variance that is (hopefully) unrelated\n",
      "to the experiment design, and we should try to remove it to present the\n",
      "classifier with the cleanest signal possible. There are countless ways to\n",
      "pre-process the data to try to achieve this goal. Some keywords are:\n",
      "high/low/band-pass filtering, de-spiking, motion-correcting, intensity\n",
      "normalization, and so on. In this tutorial, we keep it simple. The data we\n",
      "have just loaded is already motion corrected. For every experiment that is\n",
      "longer than a few minutes, as in this case, temporal trend removal, or\n",
      "[detrending](http://pymvpa.org/glossary.html#term-detrending), is crucial."
     ]
    },
    {
     "cell_type": "heading",
     "level": 2,
     "metadata": {},
     "source": [
      "Detrending"
     ]
    },
    {
     "cell_type": "markdown",
     "metadata": {},
     "source": [
      "\n",
      "\n",
      "PyMVPA provides functionality to remove polynomial trends from the data (other\n",
      "methods are available too), meaning that polynomials are fitted to the time\n",
      "series and only what is not explained by them remains in the dataset. In the\n",
      "case of linear detrending, this means fitting a straight line to the time\n",
      "series of each voxel via linear regression and taking the residuals as the new\n",
      "feature values. Detrending can be seen as a type of data transformation, hence\n",
      "in PyMVPA it is implemented as a mapper."
     ]
    },
    {
     "cell_type": "code",
     "collapsed": false,
     "input": [
      "detrender = PolyDetrendMapper(polyord=1, chunks_attr='chunks')"
     ],
     "language": "python",
     "metadata": {},
     "outputs": []
    },
    {
     "cell_type": "markdown",
     "metadata": {},
     "source": [
      "\n",
      "\n",
      "What we have just created is a mapper that will perform chunk-wise linear\n",
      "(1st-order polynomial) detrending. Chunk-wise detrending is desirable,\n",
      "since our data stems from 12 different runs, and the assumption of a\n",
      "continuous linear trend across all runs is not appropriate. The mapper is\n",
      "going to use the `chunks` attribute to identify the chunks in the\n",
      "dataset.\n",
      "\n",
      "We have seen that we could simply forward-map our dataset with this mapper.\n",
      "However, if we want to have the mapper present in the datasets processing\n",
      "history breadcrumb track, we can use its\n",
      "[get_mapped()](http://pymvpa.org/generated/mvpa2.datasets.base.Dataset.get_mapped.html#mvpa2-datasets-base-dataset-get-mapped) method. This method will cause\n",
      "the dataset to map a shallow copy of itself with the given mapper, and\n",
      "return it. Let's try:"
     ]
    },
    {
     "cell_type": "code",
     "collapsed": false,
     "input": [
      "detrended_fds = fds.get_mapped(detrender)\n",
      "print detrended_fds.a.mapper"
     ],
     "language": "python",
     "metadata": {},
     "outputs": []
    },
    {
     "cell_type": "markdown",
     "metadata": {},
     "source": [
      "\n",
      "\n",
      "`detrended_fds` is easily identifiable as a dataset that has been\n",
      "flattened, sliced, and linearly detrended."
     ]
    },
    {
     "cell_type": "heading",
     "level": 2,
     "metadata": {},
     "source": [
      "Normalization"
     ]
    },
    {
     "cell_type": "markdown",
     "metadata": {},
     "source": [
      "\n",
      "\n",
      "While this will hopefully have solved the problem of temporal drifts in the\n",
      "data, we still have inhomogeneous voxel intensities, but there are many\n",
      "possible approaches to fix it. For this tutorial we are again following a\n",
      "simple one, and perform a feature-wise, chunk-wise Z-scoring of the data.  This\n",
      "has many advantages. First, it is going to scale all features into approximately\n",
      "the same range, and also remove their mean.  The latter is quite important,\n",
      "since some classifiers are impaired when working with data having large offsets.\n",
      "However, we are not\n",
      "going to perform a very simple Z-scoring removing the global mean, but use the\n",
      "*rest* condition samples of the dataset to estimate mean and standard deviation.\n",
      "Scaling dataset features using these parameters yields a score corresponding to the\n",
      "per time-point voxel intensity difference from the *rest* average.\n",
      "\n",
      "This type of data [normalization](http://pymvpa.org/glossary.html#term-normalization) is, you guessed it, also\n",
      "implemented as a mapper:"
     ]
    },
    {
     "cell_type": "code",
     "collapsed": false,
     "input": [
      "zscorer = ZScoreMapper(param_est=('targets', ['rest']))"
     ],
     "language": "python",
     "metadata": {},
     "outputs": []
    },
    {
     "cell_type": "markdown",
     "metadata": {},
     "source": [
      "\n",
      "\n",
      "This configures to perform a [chunk](http://pymvpa.org/glossary.html#term-chunk)-wise (the default) Z-scoring, while\n",
      "estimating mean and standard deviation from samples targets with 'rest' in\n",
      "the respective chunk of data.\n",
      "\n",
      "Remember, all mappers return new datasets that only have copies of what has\n",
      "been modified. However, both detrending and Z-scoring have or will modify\n",
      "the samples themselves. That means that the memory consumption will triple!\n",
      "We will have the original data, the detrended data, and the Z-scored data,\n",
      "but typically we are only interested in the final processing stage. The\n",
      "reduce the memory footprint, both mappers have siblings that perform the\n",
      "same processing, but without copying the data. For\n",
      "[PolyDetrendMapper](http://pymvpa.org/generated/mvpa2.mappers.detrend.PolyDetrendMapper.html#mvpa2-mappers-detrend-polydetrendmapper) this is\n",
      "[poly_detrend()](http://pymvpa.org/generated/mvpa2.mappers.detrend.poly_detrend.html#mvpa2-mappers-detrend-poly-detrend), and for\n",
      "[ZScoreMapper](http://pymvpa.org/generated/mvpa2.mappers.zscore.ZScoreMapper.html#mvpa2-mappers-zscore-zscoremapper) this is\n",
      "[zscore()](http://pymvpa.org/generated/mvpa2.mappers.zscore.zscore.html#mvpa2-mappers-zscore-zscore). The following call will do the same as the\n",
      "mapper we have created above, but using less memory:"
     ]
    },
    {
     "cell_type": "code",
     "collapsed": false,
     "input": [
      "zscore(detrended_fds, param_est=('targets', ['rest']))\n",
      "fds = detrended_fds\n",
      "print fds.a.mapper"
     ],
     "language": "python",
     "metadata": {},
     "outputs": []
    },
    {
     "cell_type": "markdown",
     "metadata": {},
     "source": [
      "- - -\n",
      "**Exercise**\n",
      "\n",
      "\n",
      "\n",
      "Look at the \n",
      "*example_smellit* example. Using the techniques from\n",
      "this example, explore the dataset we have just created and look at the\n",
      "effect of detrending and Z-scoring."
     ]
    },
    {
     "cell_type": "code",
     "collapsed": false,
     "input": [
      "# you can use this cell to for this exercise"
     ],
     "language": "python",
     "metadata": {},
     "outputs": []
    },
    {
     "cell_type": "markdown",
     "metadata": {},
     "source": [
      "- - -\n",
      "\n",
      "\n",
      "The resulting dataset is now both detrended and normalized. The information\n",
      "is nicely presented in the mapper. From this point on we have no use for\n",
      "the samples of the *rest* category anymore, hence we remove them from the\n",
      "dataset:"
     ]
    },
    {
     "cell_type": "code",
     "collapsed": false,
     "input": [
      "fds = fds[fds.sa.targets != 'rest']\n",
      "print fds.shape"
     ],
     "language": "python",
     "metadata": {},
     "outputs": []
    },
    {
     "cell_type": "heading",
     "level": 2,
     "metadata": {},
     "source": [
      "Computing \n",
      "*Patterns Of Activation*"
     ]
    },
    {
     "cell_type": "markdown",
     "metadata": {},
     "source": [
      "\n",
      "\n",
      "The last preprocessing step, we need to replicate, is computing the\n",
      "actual *patterns of activation*. In the original study Haxby and colleagues\n",
      "performed a GLM-analysis of odd vs. even runs of the data respectively and\n",
      "used the corresponding contrast statistics (stimulus category vs. rest) as\n",
      "classifier input. In this tutorial, we will use a much simpler shortcut and\n",
      "just compute *mean* samples per condition for both odd and even\n",
      "independently.\n",
      "\n",
      "To achieve this, we first add a new sample attribute to assign a\n",
      "corresponding label to each sample in the dataset, indication to which of\n",
      "both run-types it belongs to:"
     ]
    },
    {
     "cell_type": "code",
     "collapsed": false,
     "input": [
      "rnames = {0: 'even', 1: 'odd'}\n",
      "fds.sa['runtype'] = [rnames[c % 2] for c in fds.sa.chunks]"
     ],
     "language": "python",
     "metadata": {},
     "outputs": []
    },
    {
     "cell_type": "markdown",
     "metadata": {},
     "source": [
      "\n",
      "\n",
      "The rest is trivial. For cases like this -- applying a function (i.e. mean)\n",
      "to a set of groups of samples (all combinations of stimulus category and\n",
      "run-type) -- PyMVPA has [FxMapper](http://pymvpa.org/generated/mvpa2.mappers.fx.FxMapper.html#mvpa2-mappers-fx-fxmapper). it comes with a number\n",
      "of convenience functions. The one we need here is\n",
      "[mean_group_sample()](http://pymvpa.org/generated/mvpa2.mappers.fx.mean_group_sample.html#mvpa2-mappers-fx-mean-group-sample). It takes a list of sample attributes,\n",
      "determines all possible combinations of its unique values, selects dataset\n",
      "samples corresponding to these combinations, and averages them. Finally,\n",
      "since this is also a mapper, a new dataset with mean samples is returned:"
     ]
    },
    {
     "cell_type": "code",
     "collapsed": false,
     "input": [
      "averager = mean_group_sample(['targets', 'runtype'])\n",
      "type(averager)"
     ],
     "language": "python",
     "metadata": {},
     "outputs": []
    },
    {
     "cell_type": "code",
     "collapsed": false,
     "input": [
      "fds = fds.get_mapped(averager)\n",
      "fds.shape"
     ],
     "language": "python",
     "metadata": {},
     "outputs": []
    },
    {
     "cell_type": "code",
     "collapsed": false,
     "input": [
      "print fds.sa.targets"
     ],
     "language": "python",
     "metadata": {},
     "outputs": []
    },
    {
     "cell_type": "code",
     "collapsed": false,
     "input": [
      "print fds.sa.chunks"
     ],
     "language": "python",
     "metadata": {},
     "outputs": []
    },
    {
     "cell_type": "markdown",
     "metadata": {},
     "source": [
      "\n",
      "\n",
      "Here we go! We now have a fully-preprocessed dataset: masked, detrended, normalized,\n",
      "with one sample per stimulus condition that is an average for odd and even runs\n",
      "respectively. Now we could do some serious classification, and this will be\n",
      "shown in *chap_tutorial_classifiers*, but there is still an\n",
      "important aspect of mappers we have to look at first."
     ]
    },
    {
     "cell_type": "heading",
     "level": 3,
     "metadata": {},
     "source": [
      "There and back again -- a Mapper's tale"
     ]
    },
    {
     "cell_type": "markdown",
     "metadata": {},
     "source": [
      "\n",
      "\n",
      "Let's take a look back at the simple datasets from the start of the tutorial\n",
      "part."
     ]
    },
    {
     "cell_type": "code",
     "collapsed": false,
     "input": [
      "print ds"
     ],
     "language": "python",
     "metadata": {},
     "outputs": []
    },
    {
     "cell_type": "code",
     "collapsed": false,
     "input": [
      "print ds.a.mapper"
     ],
     "language": "python",
     "metadata": {},
     "outputs": []
    },
    {
     "cell_type": "markdown",
     "metadata": {},
     "source": [
      "\n",
      "\n",
      "A very important feature of mappers is that they allow to reverse a\n",
      "transformation, if that is possible. In case of the simple dataset we can\n",
      "ask the mapper to undo the flattening and to put our samples back into the\n",
      "original 3D shape."
     ]
    },
    {
     "cell_type": "code",
     "collapsed": false,
     "input": [
      "orig_data = ds.a.mapper.reverse(ds.samples)\n",
      "orig_data.shape"
     ],
     "language": "python",
     "metadata": {},
     "outputs": []
    },
    {
     "cell_type": "markdown",
     "metadata": {},
     "source": [
      "\n",
      "\n",
      "In interactive scripting sessions this is would be a relatively bulky command to\n",
      "type, although it might be quite frequently used. To make ones fingers suffer\n",
      "less there is a little shortcut that does exactly the same:"
     ]
    },
    {
     "cell_type": "code",
     "collapsed": false,
     "input": [
      "orig_data = ds.O\n",
      "orig_data.shape"
     ],
     "language": "python",
     "metadata": {},
     "outputs": []
    },
    {
     "cell_type": "markdown",
     "metadata": {},
     "source": [
      "\n",
      "\n",
      "It is important to realize that reverse-mapping not only works with a single\n",
      "mapper, but also with a [ChainMapper](http://pymvpa.org/generated/mvpa2.mappers.base.ChainMapper.html#mvpa2-mappers-base-chainmapper). Going back to our demo\n",
      "dataset from the beginning we can see how it works:"
     ]
    },
    {
     "cell_type": "code",
     "collapsed": false,
     "input": [
      "print subds"
     ],
     "language": "python",
     "metadata": {},
     "outputs": []
    },
    {
     "cell_type": "code",
     "collapsed": false,
     "input": [
      "print subds.a.mapper"
     ],
     "language": "python",
     "metadata": {},
     "outputs": []
    },
    {
     "cell_type": "code",
     "collapsed": false,
     "input": [
      "subds.nfeatures"
     ],
     "language": "python",
     "metadata": {},
     "outputs": []
    },
    {
     "cell_type": "code",
     "collapsed": false,
     "input": [
      "revtest = np.arange(subds.nfeatures) + 10\n",
      "print revtest"
     ],
     "language": "python",
     "metadata": {},
     "outputs": []
    },
    {
     "cell_type": "code",
     "collapsed": false,
     "input": [
      "rmapped = subds.a.mapper.reverse1(revtest)\n",
      "rmapped.shape"
     ],
     "language": "python",
     "metadata": {},
     "outputs": []
    },
    {
     "cell_type": "code",
     "collapsed": false,
     "input": [
      "print rmapped"
     ],
     "language": "python",
     "metadata": {},
     "outputs": []
    },
    {
     "cell_type": "markdown",
     "metadata": {},
     "source": [
      "\n",
      "\n",
      "Reverse mapping of a single sample (one-dimensional feature vector) through the\n",
      "mapper chain created a 4x3 array that corresponds to the dimensions of a sample\n",
      "in our original data space. Moreover, we see that each feature value is\n",
      "precisely placed into the position that corresponds to the features selected\n",
      "in the previous dataset slicing operation.\n",
      "\n",
      "But now let's look at our fMRI dataset again. Here the mapper chain is a little\n",
      "more complex:"
     ]
    },
    {
     "cell_type": "code",
     "collapsed": false,
     "input": [
      "print fds.a.mapper"
     ],
     "language": "python",
     "metadata": {},
     "outputs": []
    },
    {
     "cell_type": "markdown",
     "metadata": {},
     "source": [
      "\n",
      "\n",
      "Initial flattening followed by mask, detrending, Z-scoring and finally\n",
      "averaging. We would reverse mapping do in this case? Let's test:"
     ]
    },
    {
     "cell_type": "code",
     "collapsed": false,
     "input": [
      "fds.nfeatures"
     ],
     "language": "python",
     "metadata": {},
     "outputs": []
    },
    {
     "cell_type": "code",
     "collapsed": false,
     "input": [
      "revtest = np.arange(100, 100 + fds.nfeatures)\n",
      "rmapped = fds.a.mapper.reverse1(revtest)\n",
      "rmapped.shape"
     ],
     "language": "python",
     "metadata": {},
     "outputs": []
    },
    {
     "cell_type": "markdown",
     "metadata": {},
     "source": [
      "\n",
      "\n",
      "What happens is exactly what we expect: The initial one-dimensional vector\n",
      "is passed backwards through the mapper chain. Reverting a group-based\n",
      "averaging doesn't make much sense for a single vector, hence it is ignored.\n",
      "Same happens for Z-Scoring and temporal detrending. However, for all\n",
      "remaining mappers the transformations are reverse. First unmasked, and\n",
      "then reshaped into the original dimensionality -- the brain volume.\n",
      "\n",
      "We can check that this is really the case by only reverse-mapping through\n",
      "the first two mappers in the chain and compare the result:"
     ]
    },
    {
     "cell_type": "code",
     "collapsed": false,
     "input": [
      "rmapped_partial = fds.a.mapper[:2].reverse1(revtest)\n",
      "(rmapped == rmapped_partial).all()"
     ],
     "language": "python",
     "metadata": {},
     "outputs": []
    },
    {
     "cell_type": "markdown",
     "metadata": {},
     "source": [
      "\n",
      "\n",
      "In case you are wondering: The [ChainMapper](http://pymvpa.org/generated/mvpa2.mappers.base.ChainMapper.html#mvpa2-mappers-base-chainmapper) behaves\n",
      "like a regular Python list. We have just selected the first two mappers in\n",
      "the list as another [ChainMapper](http://pymvpa.org/generated/mvpa2.mappers.base.ChainMapper.html#mvpa2-mappers-base-chainmapper) and used that one for\n",
      "reverse-mapping."
     ]
    },
    {
     "cell_type": "heading",
     "level": 2,
     "metadata": {},
     "source": [
      "Back To NIfTI"
     ]
    },
    {
     "cell_type": "markdown",
     "metadata": {},
     "source": [
      "\n",
      "\n",
      "One last interesting aspect in the context of reverse mapping: Whenever it\n",
      "is necessary to export data from PyMVPA, such as results, dataset mappers\n",
      "also play a critical role. For example we can easily export the `revtest`\n",
      "vector into a NIfTI brain volume image. This is possible because the mapper\n",
      "can put it back into 3D space, and because the dataset also stores\n",
      "information about the original source NIfTI image."
     ]
    },
    {
     "cell_type": "code",
     "collapsed": false,
     "input": [
      "'imghdr' in fds.a"
     ],
     "language": "python",
     "metadata": {},
     "outputs": []
    },
    {
     "cell_type": "markdown",
     "metadata": {},
     "source": [
      "\n",
      "\n",
      "PyMVPA offers [map2nifti()](http://pymvpa.org/generated/mvpa2.datasets.mri.map2nifti.html#mvpa2-datasets-mri-map2nifti), a function to combine these\n",
      "two things and convert any vector into the corresponding NIfTI image:"
     ]
    },
    {
     "cell_type": "code",
     "collapsed": false,
     "input": [
      "nimg = map2nifti(fds, revtest)"
     ],
     "language": "python",
     "metadata": {},
     "outputs": []
    },
    {
     "cell_type": "markdown",
     "metadata": {},
     "source": [
      "\n",
      "\n",
      "This image can now be stored as a file (e.g. `nimg.to_filename('mytest.nii.gz')`).\n",
      "In this format it is now compatible with the vast majority of neuroimaging\n",
      "software."
     ]
    },
    {
     "cell_type": "markdown",
     "metadata": {},
     "source": [
      "- - -\n",
      "**Exercise**\n",
      "\n",
      "\n",
      "\n",
      "Save the NIfTI image to some file, and use an MRI viewer to overlay it\n",
      "on top of the anatomical image in the demo dataset. Does it match our\n",
      "original mask image of ventral temporal cortex?"
     ]
    },
    {
     "cell_type": "code",
     "collapsed": false,
     "input": [
      "# you can use this cell to for this exercise"
     ],
     "language": "python",
     "metadata": {},
     "outputs": []
    },
    {
     "cell_type": "markdown",
     "metadata": {},
     "source": [
      "- - -\n",
      "\n",
      "\n",
      "There are many more mappers in PyMVPA than we could cover in the tutorial\n",
      "part. Some more will be used in other parts, but even more can be found the\n",
      "[mappers](http://pymvpa.org/generated/mvpa2.mappers.html#mvpa2-mappers) module. Even though they all implement different\n",
      "transformations, they can all be used in the same way, and can all be\n",
      "combined into a chain."
     ]
    }
   ],
   "metadata": {}
  }
 ]
}