{
 "metadata": {
  "name": "",
  "signature": "sha256:010c81495b03dd7f83732ccfd67d91dba29c6fb833b8107daaa53c5b5ee60d7b"
 },
 "nbformat": 3,
 "nbformat_minor": 0,
 "worksheets": [
  {
   "cells": [
    {
     "cell_type": "heading",
     "level": 1,
     "metadata": {},
     "source": [
      "Dataset Basics and Concepts"
     ]
    },
    {
     "cell_type": "markdown",
     "metadata": {},
     "source": [
      "\n",
      "\n",
      "A [Dataset](http://pymvpa.org/generated/mvpa2.datasets.base.Dataset.html#mvpa2-datasets-base-dataset) is the basic data container in PyMVPA. It\n",
      "serves as the primary form of input data storage, but also as a container for\n",
      "more complex results returned by some algorithm. In this tutorial part we will\n",
      "take a look at what a dataset consists of, and how it works.\n",
      "\n",
      "Most datasets in PyMVPA are represented as a two-dimensional array, where the\n",
      "first axis is the [sample](http://pymvpa.org/glossary.html#term-sample)s axis, and the second axis represents the\n",
      "[feature](http://pymvpa.org/glossary.html#term-feature)s of the samples.  In the simplest case, a dataset only\n",
      "contains *data* that is a matrix of numerical values."
     ]
    },
    {
     "cell_type": "code",
     "collapsed": false,
     "input": [
      "from mvpa2.tutorial_suite import *\n",
      "data = [[  1,  1, -1],\n",
      "        [  2,  0,  0],\n",
      "        [  3,  1,  1],\n",
      "        [  4,  0, -1]]\n",
      "ds = Dataset(data)\n",
      "ds.shape"
     ],
     "language": "python",
     "metadata": {},
     "outputs": [
      {
       "output_type": "stream",
       "stream": "stderr",
       "text": [
        "/usr/lib/python2.7/dist-packages/sklearn/pls.py:7: DeprecationWarning: This module has been moved to cross_decomposition and will be removed in 0.16\n",
        "  \"removed in 0.16\", DeprecationWarning)\n",
        "/usr/lib/python2.7/dist-packages/sklearn/linear_model/coordinate_descent.py:553: DeprecationWarning: rho was renamed to l1_ratio and will be removed in 0.15\n",
        "  \"in 0.15\", DeprecationWarning)\n"
       ]
      },
      {
       "metadata": {},
       "output_type": "pyout",
       "prompt_number": 2,
       "text": [
        "(4, 3)"
       ]
      }
     ],
     "prompt_number": 2
    },
    {
     "cell_type": "code",
     "collapsed": false,
     "input": [
      "len(ds)"
     ],
     "language": "python",
     "metadata": {},
     "outputs": []
    },
    {
     "cell_type": "code",
     "collapsed": false,
     "input": [
      "ds.nfeatures"
     ],
     "language": "python",
     "metadata": {},
     "outputs": []
    },
    {
     "cell_type": "code",
     "collapsed": false,
     "input": [
      "ds.samples"
     ],
     "language": "python",
     "metadata": {},
     "outputs": []
    },
    {
     "cell_type": "markdown",
     "metadata": {},
     "source": [
      "\n",
      "\n",
      "In the above example, every row vector in the `data` matrix becomes an\n",
      "observation, a [sample](http://pymvpa.org/glossary.html#term-sample), in the dataset, and every column vector\n",
      "represents an individual variable, a [feature](http://pymvpa.org/glossary.html#term-feature). The concepts of samples\n",
      "and features are essential for a dataset, hence we take a further, closer look.\n",
      "\n",
      "The dataset assumes that the first axis of the data is to be used to define\n",
      "individual samples. If the dataset is created using a one-dimensional vector it will\n",
      "therefore have as many samples as elements in the vector, and only one feature."
     ]
    },
    {
     "cell_type": "code",
     "collapsed": false,
     "input": [
      "one_d = [ 0, 1, 2, 3 ]\n",
      "one_ds = Dataset(one_d)\n",
      "one_ds.shape"
     ],
     "language": "python",
     "metadata": {},
     "outputs": [
      {
       "metadata": {},
       "output_type": "pyout",
       "prompt_number": 3,
       "text": [
        "(4, 1)"
       ]
      }
     ],
     "prompt_number": 3
    },
    {
     "cell_type": "markdown",
     "metadata": {},
     "source": [
      "\n",
      "\n",
      "On the other hand, if a dataset is created from multi-dimensional data, only its\n",
      "second axis represents the features"
     ]
    },
    {
     "cell_type": "code",
     "collapsed": false,
     "input": [
      "import numpy as np\n",
      "m_ds = Dataset(np.random.random((3, 4, 2, 3)))\n",
      "m_ds.shape"
     ],
     "language": "python",
     "metadata": {},
     "outputs": [
      {
       "metadata": {},
       "output_type": "pyout",
       "prompt_number": 7,
       "text": [
        "(3, 4, 2, 3)"
       ]
      }
     ],
     "prompt_number": 7
    },
    {
     "cell_type": "code",
     "collapsed": false,
     "input": [
      "m_ds.nfeatures"
     ],
     "language": "python",
     "metadata": {},
     "outputs": [
      {
       "metadata": {},
       "output_type": "pyout",
       "prompt_number": 5,
       "text": [
        "4"
       ]
      }
     ],
     "prompt_number": 5
    },
    {
     "cell_type": "markdown",
     "metadata": {},
     "source": [
      "\n",
      "\n",
      "In this case we have a dataset with three samples and four features, where each\n",
      "feature is a 2x3 matrix. In case somebody is wondering now why not simply\n",
      "treat each value in the data array as its own feature (yielding 24 features) --\n",
      "stay tuned, as this is going to be of importance later on."
     ]
    },
    {
     "cell_type": "heading",
     "level": 2,
     "metadata": {},
     "source": [
      "Attributes"
     ]
    },
    {
     "cell_type": "markdown",
     "metadata": {},
     "source": [
      "\n",
      "\n",
      "What we have seen so far does not really warrant the use of a dataset over a\n",
      "plain array or a matrix with samples. However, in the MVPA context we often need\n",
      "to know more about each sample than just the value of its features.  In the\n",
      "previous tutorial part we have already seen that per-sample [target](http://pymvpa.org/glossary.html#term-target)\n",
      "values are required for supervised-learning algorithms, and that a dataset\n",
      "often has to be split based on the origin of specific groups of samples.  For\n",
      "this type of auxiliary information a dataset can also contain collections of\n",
      "three types of [attribute](http://pymvpa.org/glossary.html#term-attribute)s: [sample attribute](http://pymvpa.org/glossary.html#term-sample-attribute), [feature attribute](http://pymvpa.org/glossary.html#term-feature-attribute), and\n",
      "[dataset attribute](http://pymvpa.org/glossary.html#term-dataset-attribute)."
     ]
    },
    {
     "cell_type": "heading",
     "level": 3,
     "metadata": {},
     "source": [
      "For Samples"
     ]
    },
    {
     "cell_type": "markdown",
     "metadata": {},
     "source": [
      "\n",
      "\n",
      "Each [sample](http://pymvpa.org/glossary.html#term-sample) in a dataset can have an arbitrary number of additional\n",
      "attributes. They are stored as vectors of the same length as the number of samples\n",
      "in a collection, and are accessible via the `sa` attribute. A collection is\n",
      "derived from a standard Python `dict`, and hence adding sample attributes\n",
      "works identically to adding elements to a dictionary:"
     ]
    },
    {
     "cell_type": "code",
     "collapsed": false,
     "input": [
      "ds.sa['some_attr'] = [ 0., 1, 1, 3 ]\n",
      "ds.sa.keys()"
     ],
     "language": "python",
     "metadata": {},
     "outputs": [
      {
       "metadata": {},
       "output_type": "pyout",
       "prompt_number": 11,
       "text": [
        "['some_attr']"
       ]
      }
     ],
     "prompt_number": 11
    },
    {
     "cell_type": "markdown",
     "metadata": {},
     "source": [
      "\n",
      "\n",
      "However, sample attributes are not directly stored as plain data, but for\n",
      "various reasons as a so-called [Collectable](http://pymvpa.org/generated/mvpa2.base.collections.Collectable.html#mvpa2-base-collections-collectable) that in\n",
      "turn embeds a NumPy array with the actual attribute:"
     ]
    },
    {
     "cell_type": "code",
     "collapsed": false,
     "input": [
      "type(ds.sa['some_attr'])"
     ],
     "language": "python",
     "metadata": {},
     "outputs": [
      {
       "metadata": {},
       "output_type": "pyout",
       "prompt_number": 12,
       "text": [
        "mvpa2.base.collections.ArrayCollectable"
       ]
      }
     ],
     "prompt_number": 12
    },
    {
     "cell_type": "code",
     "collapsed": false,
     "input": [
      "ds.sa['some_attr'].value"
     ],
     "language": "python",
     "metadata": {},
     "outputs": [
      {
       "metadata": {},
       "output_type": "pyout",
       "prompt_number": 13,
       "text": [
        "array([ 0.,  1.,  1.,  3.])"
       ]
      }
     ],
     "prompt_number": 13
    },
    {
     "cell_type": "markdown",
     "metadata": {},
     "source": [
      "\n",
      "\n",
      "This \"complication\" is done to be able to extend attributes with additional\n",
      "functionality that is often needed and can offer a significant speed-up of\n",
      "processing. For example, sample attributes carry a list of their unique values.\n",
      "This list is only computed once (upon first request) and can subsequently be\n",
      "accessed directly without repeated and expensive searches:"
     ]
    },
    {
     "cell_type": "code",
     "collapsed": false,
     "input": [
      "ds.sa['some_attr'].unique"
     ],
     "language": "python",
     "metadata": {},
     "outputs": [
      {
       "metadata": {},
       "output_type": "pyout",
       "prompt_number": 14,
       "text": [
        "array([ 0.,  1.,  3.])"
       ]
      }
     ],
     "prompt_number": 14
    },
    {
     "cell_type": "markdown",
     "metadata": {},
     "source": [
      "\n",
      "\n",
      "However, for most interactive uses of PyMVPA this type of access to attributes'\n",
      "`.value` is relatively cumbersome (too much typing), therefore collections offer direct\n",
      "access by name:"
     ]
    },
    {
     "cell_type": "code",
     "collapsed": false,
     "input": [
      "ds.sa.some_attr"
     ],
     "language": "python",
     "metadata": {},
     "outputs": [
      {
       "metadata": {},
       "output_type": "pyout",
       "prompt_number": 15,
       "text": [
        "array([ 0.,  1.,  1.,  3.])"
       ]
      }
     ],
     "prompt_number": 15
    },
    {
     "cell_type": "markdown",
     "metadata": {},
     "source": [
      "\n",
      "\n",
      "Another purpose of the sample attribute collection is to preserve data\n",
      "integrity, by disallowing improper attributes:"
     ]
    },
    {
     "cell_type": "code",
     "collapsed": false,
     "input": [
      "ds.sa['invalid'] = 4"
     ],
     "language": "python",
     "metadata": {},
     "outputs": [
      {
       "ename": "ValueError",
       "evalue": "ArrayCollectable only takes sequences as value.",
       "output_type": "pyerr",
       "traceback": [
        "\u001b[1;31m---------------------------------------------------------------------------\u001b[0m\n\u001b[1;31mValueError\u001b[0m                                Traceback (most recent call last)",
        "\u001b[1;32m<ipython-input-16-10941c23bd22>\u001b[0m in \u001b[0;36m<module>\u001b[1;34m()\u001b[0m\n\u001b[1;32m----> 1\u001b[1;33m \u001b[0mds\u001b[0m\u001b[1;33m.\u001b[0m\u001b[0msa\u001b[0m\u001b[1;33m[\u001b[0m\u001b[1;34m'invalid'\u001b[0m\u001b[1;33m]\u001b[0m \u001b[1;33m=\u001b[0m \u001b[1;36m4\u001b[0m\u001b[1;33m\u001b[0m\u001b[0m\n\u001b[0m",
        "\u001b[1;32m/usr/lib/pymodules/python2.7/mvpa2/base/collections.pyc\u001b[0m in \u001b[0;36m__setitem__\u001b[1;34m(self, key, value)\u001b[0m\n\u001b[0;32m    560\u001b[0m                     \u001b[1;31m# cannot use np.repeat, because it destroys dimensionality\u001b[0m\u001b[1;33m\u001b[0m\u001b[1;33m\u001b[0m\u001b[0m\n\u001b[0;32m    561\u001b[0m                     \u001b[0mvalue\u001b[0m \u001b[1;33m=\u001b[0m \u001b[1;33m[\u001b[0m\u001b[0mvalue\u001b[0m\u001b[1;33m[\u001b[0m\u001b[1;36m0\u001b[0m\u001b[1;33m]\u001b[0m\u001b[1;33m]\u001b[0m \u001b[1;33m*\u001b[0m \u001b[0mulength\u001b[0m\u001b[1;33m\u001b[0m\u001b[0m\n\u001b[1;32m--> 562\u001b[1;33m             \u001b[0mvalue\u001b[0m \u001b[1;33m=\u001b[0m \u001b[0mArrayCollectable\u001b[0m\u001b[1;33m(\u001b[0m\u001b[0mvalue\u001b[0m\u001b[1;33m)\u001b[0m\u001b[1;33m\u001b[0m\u001b[0m\n\u001b[0m\u001b[0;32m    563\u001b[0m         \u001b[1;32mif\u001b[0m \u001b[0mulength\u001b[0m \u001b[1;32mis\u001b[0m \u001b[0mNone\u001b[0m\u001b[1;33m:\u001b[0m\u001b[1;33m\u001b[0m\u001b[0m\n\u001b[0;32m    564\u001b[0m             \u001b[0mulength\u001b[0m \u001b[1;33m=\u001b[0m \u001b[0mlen\u001b[0m\u001b[1;33m(\u001b[0m\u001b[0mvalue\u001b[0m\u001b[1;33m)\u001b[0m\u001b[1;33m\u001b[0m\u001b[0m\n",
        "\u001b[1;32m/usr/lib/pymodules/python2.7/mvpa2/base/collections.pyc\u001b[0m in \u001b[0;36m__init__\u001b[1;34m(self, value, name, doc, length)\u001b[0m\n\u001b[0;32m    176\u001b[0m         \u001b[1;32mif\u001b[0m \u001b[1;32mnot\u001b[0m \u001b[0mvalue\u001b[0m \u001b[1;32mis\u001b[0m \u001b[0mNone\u001b[0m \u001b[1;32mand\u001b[0m \u001b[1;32mnot\u001b[0m \u001b[0mhasattr\u001b[0m\u001b[1;33m(\u001b[0m\u001b[0mvalue\u001b[0m\u001b[1;33m,\u001b[0m \u001b[1;34m'__len__'\u001b[0m\u001b[1;33m)\u001b[0m\u001b[1;33m:\u001b[0m\u001b[1;33m\u001b[0m\u001b[0m\n\u001b[0;32m    177\u001b[0m             raise ValueError(\"%s only takes sequences as value.\"\n\u001b[1;32m--> 178\u001b[1;33m                              % self.__class__.__name__)\n\u001b[0m\u001b[0;32m    179\u001b[0m         \u001b[0mself\u001b[0m\u001b[1;33m.\u001b[0m\u001b[0m_target_length\u001b[0m \u001b[1;33m=\u001b[0m \u001b[0mlength\u001b[0m\u001b[1;33m\u001b[0m\u001b[0m\n\u001b[0;32m    180\u001b[0m         \u001b[0mCollectable\u001b[0m\u001b[1;33m.\u001b[0m\u001b[0m__init__\u001b[0m\u001b[1;33m(\u001b[0m\u001b[0mself\u001b[0m\u001b[1;33m,\u001b[0m \u001b[0mvalue\u001b[0m\u001b[1;33m=\u001b[0m\u001b[0mvalue\u001b[0m\u001b[1;33m,\u001b[0m \u001b[0mname\u001b[0m\u001b[1;33m=\u001b[0m\u001b[0mname\u001b[0m\u001b[1;33m,\u001b[0m \u001b[0mdoc\u001b[0m\u001b[1;33m=\u001b[0m\u001b[0mdoc\u001b[0m\u001b[1;33m)\u001b[0m\u001b[1;33m\u001b[0m\u001b[0m\n",
        "\u001b[1;31mValueError\u001b[0m: ArrayCollectable only takes sequences as value."
       ]
      }
     ],
     "prompt_number": 16
    },
    {
     "cell_type": "code",
     "collapsed": false,
     "input": [
      "ds.sa['invalid'] = [ 1, 2, 3, 4, 5, 6 ]"
     ],
     "language": "python",
     "metadata": {},
     "outputs": [
      {
       "ename": "ValueError",
       "evalue": "Collectable 'invalid' with length [6] does not match the required length [4] of collection '<SampleAttributesCollection: some_attr>'.",
       "output_type": "pyerr",
       "traceback": [
        "\u001b[1;31m---------------------------------------------------------------------------\u001b[0m\n\u001b[1;31mValueError\u001b[0m                                Traceback (most recent call last)",
        "\u001b[1;32m<ipython-input-17-df7d4a7d0d15>\u001b[0m in \u001b[0;36m<module>\u001b[1;34m()\u001b[0m\n\u001b[1;32m----> 1\u001b[1;33m \u001b[0mds\u001b[0m\u001b[1;33m.\u001b[0m\u001b[0msa\u001b[0m\u001b[1;33m[\u001b[0m\u001b[1;34m'invalid'\u001b[0m\u001b[1;33m]\u001b[0m \u001b[1;33m=\u001b[0m \u001b[1;33m[\u001b[0m \u001b[1;36m1\u001b[0m\u001b[1;33m,\u001b[0m \u001b[1;36m2\u001b[0m\u001b[1;33m,\u001b[0m \u001b[1;36m3\u001b[0m\u001b[1;33m,\u001b[0m \u001b[1;36m4\u001b[0m\u001b[1;33m,\u001b[0m \u001b[1;36m5\u001b[0m\u001b[1;33m,\u001b[0m \u001b[1;36m6\u001b[0m \u001b[1;33m]\u001b[0m\u001b[1;33m\u001b[0m\u001b[0m\n\u001b[0m",
        "\u001b[1;32m/usr/lib/pymodules/python2.7/mvpa2/base/collections.pyc\u001b[0m in \u001b[0;36m__setitem__\u001b[1;34m(self, key, value)\u001b[0m\n\u001b[0;32m    569\u001b[0m                                 \u001b[0mlen\u001b[0m\u001b[1;33m(\u001b[0m\u001b[0mvalue\u001b[0m\u001b[1;33m.\u001b[0m\u001b[0mvalue\u001b[0m\u001b[1;33m)\u001b[0m\u001b[1;33m,\u001b[0m\u001b[1;33m\u001b[0m\u001b[0m\n\u001b[0;32m    570\u001b[0m                                 \u001b[0mulength\u001b[0m\u001b[1;33m,\u001b[0m\u001b[1;33m\u001b[0m\u001b[0m\n\u001b[1;32m--> 571\u001b[1;33m                                 str(self)))\n\u001b[0m\u001b[0;32m    572\u001b[0m         \u001b[1;31m# tell the attribute to maintain the desired length\u001b[0m\u001b[1;33m\u001b[0m\u001b[1;33m\u001b[0m\u001b[0m\n\u001b[0;32m    573\u001b[0m         \u001b[0mvalue\u001b[0m\u001b[1;33m.\u001b[0m\u001b[0mset_length_check\u001b[0m\u001b[1;33m(\u001b[0m\u001b[0mulength\u001b[0m\u001b[1;33m)\u001b[0m\u001b[1;33m\u001b[0m\u001b[0m\n",
        "\u001b[1;31mValueError\u001b[0m: Collectable 'invalid' with length [6] does not match the required length [4] of collection '<SampleAttributesCollection: some_attr>'."
       ]
      }
     ],
     "prompt_number": 17
    },
    {
     "cell_type": "markdown",
     "metadata": {},
     "source": [
      "\n",
      "\n",
      "But other than basic plausibility checks, no further constraints on values of\n",
      "samples attributes exist. As long as the length of the attribute vector matches\n",
      "the number of samples in the dataset, and the attributes values can be stored\n",
      "in a NumPy array, any value is allowed. For example, it is perfectly possible\n",
      "and supported to store literal attributes. It should also be noted that each\n",
      "attribute may have its own individual data type, hence it is possible to have\n",
      "literal and numeric attributes in the same dataset."
     ]
    },
    {
     "cell_type": "code",
     "collapsed": false,
     "input": [
      "ds.sa['literal'] = ['one', 'two', 'three', 'four']\n",
      "sorted(ds.sa.keys())"
     ],
     "language": "python",
     "metadata": {},
     "outputs": [
      {
       "metadata": {},
       "output_type": "pyout",
       "prompt_number": 18,
       "text": [
        "['literal', 'some_attr']"
       ]
      }
     ],
     "prompt_number": 18
    },
    {
     "cell_type": "code",
     "collapsed": false,
     "input": [
      "for attr in ds.sa:\n",
      "   print \"%s: %s\" % (attr, ds.sa[attr].value.dtype.name)"
     ],
     "language": "python",
     "metadata": {},
     "outputs": [
      {
       "output_type": "stream",
       "stream": "stdout",
       "text": [
        "literal: string40\n",
        "some_attr: float64\n"
       ]
      }
     ],
     "prompt_number": 19
    },
    {
     "cell_type": "heading",
     "level": 3,
     "metadata": {},
     "source": [
      "For Features"
     ]
    },
    {
     "cell_type": "markdown",
     "metadata": {},
     "source": [
      "\n",
      "\n",
      "[Feature attribute](http://pymvpa.org/glossary.html#term-feature-attribute)s are almost identical to [sample attribute](http://pymvpa.org/glossary.html#term-sample-attribute)s, the *only* difference is that instead of having one attribute value per\n",
      "sample, feature attributes have one value per (guess what? ...) *feature*.\n",
      "Moreover, they are stored in a separate collection in the dataset that is\n",
      "called `fa`:"
     ]
    },
    {
     "cell_type": "code",
     "collapsed": false,
     "input": [
      "ds.nfeatures"
     ],
     "language": "python",
     "metadata": {},
     "outputs": [
      {
       "metadata": {},
       "output_type": "pyout",
       "prompt_number": 20,
       "text": [
        "3"
       ]
      }
     ],
     "prompt_number": 20
    },
    {
     "cell_type": "code",
     "collapsed": false,
     "input": [
      "ds.fa['my_fav'] = [0, 1, 0]\n",
      "ds.fa['responsible'] = ['me', 'you', 'nobody']\n",
      "sorted(ds.fa.keys())"
     ],
     "language": "python",
     "metadata": {},
     "outputs": [
      {
       "metadata": {},
       "output_type": "pyout",
       "prompt_number": 21,
       "text": [
        "['my_fav', 'responsible']"
       ]
      }
     ],
     "prompt_number": 21
    },
    {
     "cell_type": "heading",
     "level": 3,
     "metadata": {},
     "source": [
      "For The Dataset"
     ]
    },
    {
     "cell_type": "markdown",
     "metadata": {},
     "source": [
      "\n",
      "\n",
      "Finally, there can be also attributes, not per each sample, or each\n",
      "feature, but for the dataset as a whole: so called [dataset attribute](http://pymvpa.org/glossary.html#term-dataset-attribute)s.\n",
      "Both assigning such attributes and accessing them later on work in\n",
      "exactly the same way as for the other two types of attributes, except that dataset\n",
      "attributes are stored in their own collection which is accessible via the\n",
      "`a` property of the dataset.  However, in contrast to sample and feature\n",
      "attribute, no constraints on the type or size are imposed -- anything can be\n",
      "stored. Let's store a list with all files in the current directory, just\n",
      "because we can:"
     ]
    },
    {
     "cell_type": "code",
     "collapsed": false,
     "input": [
      "from glob import glob\n",
      "ds.a['pointless'] = glob(\"*\")\n",
      "'setup.py' in ds.a.pointless"
     ],
     "language": "python",
     "metadata": {},
     "outputs": [
      {
       "metadata": {},
       "output_type": "pyout",
       "prompt_number": 22,
       "text": [
        "False"
       ]
      }
     ],
     "prompt_number": 22
    },
    {
     "cell_type": "heading",
     "level": 2,
     "metadata": {},
     "source": [
      "Slicing, resampling, feature selection"
     ]
    },
    {
     "cell_type": "markdown",
     "metadata": {},
     "source": [
      "\n",
      "\n",
      "At this point we can already construct a dataset from simple arrays and enrich\n",
      "it with an arbitrary number of additional attributes. But just having a dataset\n",
      "isn't enough. We often need to be able to select subsets of a dataset for\n",
      "further processing.\n",
      "\n",
      "Slicing a dataset (i.e. selecting specific subsets) is very similar to\n",
      "slicing a NumPy array. It actually works *almost* identically. A dataset\n",
      "supports Python's `slice` syntax, but also selection by boolean masks and\n",
      "indices. The following three slicing operations result in equivalent output\n",
      "datasets, by always selecting every other samples in the dataset:"
     ]
    },
    {
     "cell_type": "code",
     "collapsed": false,
     "input": [
      "ds.samples"
     ],
     "language": "python",
     "metadata": {},
     "outputs": [
      {
       "metadata": {},
       "output_type": "pyout",
       "prompt_number": 23,
       "text": [
        "array([[ 1,  1, -1],\n",
        "       [ 2,  0,  0],\n",
        "       [ 3,  1,  1],\n",
        "       [ 4,  0, -1]])"
       ]
      }
     ],
     "prompt_number": 23
    },
    {
     "cell_type": "code",
     "collapsed": false,
     "input": [
      "ds[::2].samples"
     ],
     "language": "python",
     "metadata": {},
     "outputs": [
      {
       "metadata": {},
       "output_type": "pyout",
       "prompt_number": 24,
       "text": [
        "array([[ 1,  1, -1],\n",
        "       [ 3,  1,  1]])"
       ]
      }
     ],
     "prompt_number": 24
    },
    {
     "cell_type": "code",
     "collapsed": false,
     "input": [
      "mask = np.array([True, False, True, False])\n",
      "ds[mask].samples"
     ],
     "language": "python",
     "metadata": {},
     "outputs": [
      {
       "metadata": {},
       "output_type": "pyout",
       "prompt_number": 25,
       "text": [
        "array([[ 1,  1, -1],\n",
        "       [ 3,  1,  1]])"
       ]
      }
     ],
     "prompt_number": 25
    },
    {
     "cell_type": "code",
     "collapsed": false,
     "input": [
      "ds[0, 2].samples"
     ],
     "language": "python",
     "metadata": {},
     "outputs": [
      {
       "metadata": {},
       "output_type": "pyout",
       "prompt_number": 27,
       "text": [
        "array([[-1]])"
       ]
      }
     ],
     "prompt_number": 27
    },
    {
     "cell_type": "markdown",
     "metadata": {},
     "source": [
      "- - -\n",
      "**Exercise**\n",
      "\n",
      "\n",
      "\n",
      "Search the \n",
      "[NumPy documentation](http://docs.scipy.org/doc/) for the difference between \"basic slicing\"\n",
      "and \"advanced indexing\". The aspect of memory consumption, especially,\n",
      "applies to dataset slicing as well, and being aware of this fact might\n",
      "help to write more efficient analysis scripts. Which of the three slicing\n",
      "approaches above is the most memory-efficient?  Which of the three slicing\n",
      "approaches above might lead to unexpected side-effects if the output dataset\n",
      "gets modified?"
     ]
    },
    {
     "cell_type": "code",
     "collapsed": false,
     "input": [
      "# you can use this cell to for this exercise"
     ],
     "language": "python",
     "metadata": {},
     "outputs": []
    },
    {
     "cell_type": "markdown",
     "metadata": {},
     "source": [
      "- - -\n",
      "\n",
      "\n",
      "All three slicing-styles are equally applicable to the selection of feature\n",
      "subsets within a dataset. Remember, features are represented on the second axis\n",
      "of a dataset."
     ]
    },
    {
     "cell_type": "code",
     "collapsed": false,
     "input": [
      "ds[:, [1,2]].samples"
     ],
     "language": "python",
     "metadata": {},
     "outputs": [
      {
       "metadata": {},
       "output_type": "pyout",
       "prompt_number": 28,
       "text": [
        "array([[ 1, -1],\n",
        "       [ 0,  0],\n",
        "       [ 1,  1],\n",
        "       [ 0, -1]])"
       ]
      }
     ],
     "prompt_number": 28
    },
    {
     "cell_type": "markdown",
     "metadata": {},
     "source": [
      "\n",
      "\n",
      "By applying a selection by indices to the second axis, we can easily get\n",
      "the last two features of our example dataset. Please note that the `:` is supplied\n",
      "for the first axis slicing. This is the Python way to indicate *take everything\n",
      "along this axis*, thus including all samples.\n",
      "\n",
      "As you can guess, it is also possible to select subsets of samples and\n",
      "features at the same time."
     ]
    },
    {
     "cell_type": "code",
     "collapsed": false,
     "input": [
      "subds = ds[[0,1], [0,2]]\n",
      "subds.samples"
     ],
     "language": "python",
     "metadata": {},
     "outputs": [
      {
       "metadata": {},
       "output_type": "pyout",
       "prompt_number": 29,
       "text": [
        "array([[ 1, -1],\n",
        "       [ 2,  0]])"
       ]
      }
     ],
     "prompt_number": 29
    },
    {
     "cell_type": "markdown",
     "metadata": {},
     "source": [
      "\n",
      "\n",
      "If you have prior experience with NumPy you might be confused now. What you\n",
      "might have expected is this:"
     ]
    },
    {
     "cell_type": "code",
     "collapsed": false,
     "input": [
      "ds.samples[[0,1], [0,2]]"
     ],
     "language": "python",
     "metadata": {},
     "outputs": [
      {
       "metadata": {},
       "output_type": "pyout",
       "prompt_number": 30,
       "text": [
        "array([1, 0])"
       ]
      }
     ],
     "prompt_number": 30
    },
    {
     "cell_type": "markdown",
     "metadata": {},
     "source": [
      "\n",
      "\n",
      "The above code applies the same slicing directly to the NumPy array of\n",
      "`.samples`, and the result is fundamentally different. For NumPy arrays\n",
      "this style of slicing allows selection of specific elements by their indices on\n",
      "each axis of an array. For PyMVPA's datasets this mode is not very useful,\n",
      "instead we typically want to select rows and columns, i.e. samples and\n",
      "features given by their indices."
     ]
    },
    {
     "cell_type": "markdown",
     "metadata": {},
     "source": [
      "- - -\n",
      "**Exercise**\n",
      "\n",
      "\n",
      "\n",
      "Try to select samples [0,1] and features [0,2] simultaneously using\n",
      "dataset slicing.  Now apply the same slicing to the samples array itself\n",
      "(`ds.samples`) -- make sure that the result doesn't surprise you and find\n",
      "a pure NumPy way to achieve similar selection."
     ]
    },
    {
     "cell_type": "code",
     "collapsed": false,
     "input": [],
     "language": "python",
     "metadata": {},
     "outputs": []
    },
    {
     "cell_type": "code",
     "collapsed": false,
     "input": [
      "ds[[0,1]]"
     ],
     "language": "python",
     "metadata": {},
     "outputs": [
      {
       "metadata": {},
       "output_type": "pyout",
       "prompt_number": 36,
       "text": [
        "Dataset(array([[ 1,  1, -1],\n",
        "       [ 2,  0,  0]]), sa=SampleAttributesCollection(items=[ArrayCollectable(name='literal', doc=None, value=array(['one', 'two'], \n",
        "      dtype='|S5'), length=2), ArrayCollectable(name='some_attr', doc=None, value=array([ 0.,  1.]), length=2)]), fa=FeatureAttributesCollection(items=[ArrayCollectable(name='responsible', doc=None, value=array(['me', 'you', 'nobody'], \n",
        "      dtype='|S6'), length=3), ArrayCollectable(name='my_fav', doc=None, value=array([0, 1, 0]), length=3)]), a=DatasetAttributesCollection(items=[Collectable(name='pointless', doc=None, value=['tutorial_datasets.ipynb', '172.17.0.2'])]))"
       ]
      }
     ],
     "prompt_number": 36
    },
    {
     "cell_type": "markdown",
     "metadata": {},
     "source": [
      "- - -\n",
      "\n",
      "\n",
      "One last interesting thing to look at, in the context of dataset slicing,\n",
      "are the attributes. What happens to them when a subset of samples and/or\n",
      "features is chosen? Our original dataset had both samples and feature attributes:"
     ]
    },
    {
     "cell_type": "code",
     "collapsed": false,
     "input": [
      "print ds.sa.some_attr"
     ],
     "language": "python",
     "metadata": {},
     "outputs": []
    },
    {
     "cell_type": "code",
     "collapsed": false,
     "input": [
      "print ds.fa.responsible"
     ],
     "language": "python",
     "metadata": {},
     "outputs": []
    },
    {
     "cell_type": "markdown",
     "metadata": {},
     "source": [
      "\n",
      "\n",
      "Now let's look at what they became in the subset-dataset we previously\n",
      "created:"
     ]
    },
    {
     "cell_type": "code",
     "collapsed": false,
     "input": [
      "print subds.sa.some_attr"
     ],
     "language": "python",
     "metadata": {},
     "outputs": []
    },
    {
     "cell_type": "code",
     "collapsed": false,
     "input": [
      "print subds.fa.responsible"
     ],
     "language": "python",
     "metadata": {},
     "outputs": []
    },
    {
     "cell_type": "markdown",
     "metadata": {},
     "source": [
      "\n",
      "\n",
      "We see that both attributes are still there and, moreover, also the\n",
      "corresponding subsets have been selected."
     ]
    },
    {
     "cell_type": "heading",
     "level": 2,
     "metadata": {},
     "source": [
      "Load fMRI data"
     ]
    },
    {
     "cell_type": "markdown",
     "metadata": {},
     "source": [
      "\n",
      "\n",
      "Enough theoretical foreplay -- let's look at a concrete example with an fMRI\n",
      "dataset. PyMVPA has several helper functions to load data from specialized\n",
      "formats, and the one for fMRI data is [fmri_dataset()](http://pymvpa.org/generated/mvpa2.datasets.mri.fmri_dataset.html#mvpa2-datasets-mri-fmri-dataset). The\n",
      "example dataset we are going to look at is a single subject from Haxby et al.\n",
      "(2001).  For more convenience and less typing, we first specify the path of the\n",
      "directory with the fMRI data."
     ]
    },
    {
     "cell_type": "code",
     "collapsed": false,
     "input": [
      "path=os.path.join(tutorial_data_path, 'data')"
     ],
     "language": "python",
     "metadata": {},
     "outputs": []
    },
    {
     "cell_type": "markdown",
     "metadata": {},
     "source": [
      "\n",
      "\n",
      "In the simplest case, we now let [fmri_dataset](http://pymvpa.org/generated/mvpa2.datasets.mri.fmri_dataset.html#mvpa2-datasets-mri-fmri-dataset) do its job,\n",
      "by just pointing it to the fMRI data file. The data is stored as a NIfTI file\n",
      "that has all runs of the experiment concatenated into a single file."
     ]
    },
    {
     "cell_type": "code",
     "collapsed": false,
     "input": [
      "ds = fmri_dataset(os.path.join(path, 'bold.nii.gz'))\n",
      "len(ds)"
     ],
     "language": "python",
     "metadata": {},
     "outputs": []
    },
    {
     "cell_type": "code",
     "collapsed": false,
     "input": [
      "ds.nfeatures"
     ],
     "language": "python",
     "metadata": {},
     "outputs": []
    },
    {
     "cell_type": "code",
     "collapsed": false,
     "input": [
      "ds.shape"
     ],
     "language": "python",
     "metadata": {},
     "outputs": []
    },
    {
     "cell_type": "markdown",
     "metadata": {},
     "source": [
      "\n",
      "\n",
      "We can notice two things. First -- *it worked!* Second, we obtained a\n",
      "two-dimensional dataset with 1452 samples (these are volumes in the NIfTI\n",
      "file), and over 160k features (these are voxels in the volume). The voxels\n",
      "are represented as a one-dimensional vector, and it seems that they have\n",
      "lost their association with the 3D-voxel-space. However, this is not the\n",
      "case, as we will see later.  PyMVPA represents\n",
      "data in this simple format to make it compatible with a vast range of generic\n",
      "algorithms that expect data to be a simple matrix.\n",
      "\n",
      "We loaded all data from that NIfTI file, but usually we would be\n",
      "interested in a subset only, i.e. \"brain voxels\".\n",
      "[fmri_dataset](http://pymvpa.org/generated/mvpa2.datasets.mri.fmri_dataset.html#mvpa2-datasets-mri-fmri-dataset) is capable of performing data masking. We just need to\n",
      "specify a mask image. Such a mask image is generated in pretty much any fMRI\n",
      "analysis pipeline -- may it be a full-brain mask computed during\n",
      "skull-stripping, or an activation map from a functional localizer. We are going\n",
      "to use the original GLM-based localizer mask of ventral temporal cortex\n",
      "from Haxby et al. (2001).\n",
      "Let's reload the dataset:"
     ]
    },
    {
     "cell_type": "code",
     "collapsed": false,
     "input": [
      "ds = fmri_dataset(os.path.join(path, 'bold.nii.gz'),\n",
      "                  mask=os.path.join(path, 'mask_vt.nii.gz'))\n",
      "len(ds)"
     ],
     "language": "python",
     "metadata": {},
     "outputs": []
    },
    {
     "cell_type": "code",
     "collapsed": false,
     "input": [
      "ds.nfeatures"
     ],
     "language": "python",
     "metadata": {},
     "outputs": []
    },
    {
     "cell_type": "markdown",
     "metadata": {},
     "source": [
      "\n",
      "\n",
      "As expected, we get the same number of samples, but now only 577 features\n",
      "-- voxels corresponding to non-zero elements in the mask image. Now, let's\n",
      "explore this dataset a little further."
     ]
    },
    {
     "cell_type": "markdown",
     "metadata": {},
     "source": [
      "- - -\n",
      "**Exercise**\n",
      "\n",
      "\n",
      "\n",
      "Explore the dataset attribute collections. What kind of information do they\n",
      "contain?"
     ]
    },
    {
     "cell_type": "code",
     "collapsed": false,
     "input": [
      "# you can use this cell to for this exercise"
     ],
     "language": "python",
     "metadata": {},
     "outputs": []
    },
    {
     "cell_type": "markdown",
     "metadata": {},
     "source": [
      "- - -\n",
      "\n",
      "\n",
      "Besides samples, the dataset offers a number of attributes that enhance the\n",
      "data with information that is present in the NIfTI image file header.\n",
      "Each sample has information about its volume index in the time series and the\n",
      "actual acquisition time (relative to the beginning of the file). Moreover, the\n",
      "original voxel index (sometimes referred to as `ijk`) for each feature is\n",
      "available too.  Finally, the dataset also contains information about the\n",
      "dimensionality of the input volumes, voxel size, and any other NIfTI-specific\n",
      "information since it also includes a dump of the full NIfTI image header."
     ]
    },
    {
     "cell_type": "code",
     "collapsed": false,
     "input": [
      "ds.sa.time_indices[:5]"
     ],
     "language": "python",
     "metadata": {},
     "outputs": []
    },
    {
     "cell_type": "code",
     "collapsed": false,
     "input": [
      "ds.sa.time_coords[:5]"
     ],
     "language": "python",
     "metadata": {},
     "outputs": []
    },
    {
     "cell_type": "code",
     "collapsed": false,
     "input": [
      "ds.fa.voxel_indices[:5]"
     ],
     "language": "python",
     "metadata": {},
     "outputs": []
    },
    {
     "cell_type": "code",
     "collapsed": false,
     "input": [
      "ds.a.voxel_eldim"
     ],
     "language": "python",
     "metadata": {},
     "outputs": []
    },
    {
     "cell_type": "code",
     "collapsed": false,
     "input": [
      "ds.a.voxel_dim"
     ],
     "language": "python",
     "metadata": {},
     "outputs": []
    },
    {
     "cell_type": "code",
     "collapsed": false,
     "input": [
      "'imghdr' in ds.a"
     ],
     "language": "python",
     "metadata": {},
     "outputs": []
    },
    {
     "cell_type": "markdown",
     "metadata": {},
     "source": [
      "\n",
      "\n",
      "In addition to all this information, the dataset also carries a key additional\n",
      "attribute: the *mapper*. A mapper is an important concept in PyMVPA, and\n",
      "hence has its own *tutorial chapter*."
     ]
    },
    {
     "cell_type": "code",
     "collapsed": false,
     "input": [
      "print ds.a.mapper"
     ],
     "language": "python",
     "metadata": {},
     "outputs": []
    },
    {
     "cell_type": "markdown",
     "metadata": {},
     "source": [
      "\n",
      "\n",
      "Having all these attributes being part of a dataset is often a useful thing\n",
      "to have, but in some cases (e.g. when it comes to efficiency, and/or very\n",
      "large datasets) one might want to have a leaner dataset with just the\n",
      "information that is really necessary. One way to achieve this, is to strip\n",
      "all unwanted attributes. The Dataset class'\n",
      "[AttrDataset.copy()](http://pymvpa.org/generated/mvpa2.base.dataset.AttrDataset.html#mvpa2.base.dataset.AttrDataset.copy) method can help with that."
     ]
    },
    {
     "cell_type": "code",
     "collapsed": false,
     "input": [
      "stripped = ds.copy(deep=False, sa=['time_coords'], fa=[], a=[])\n",
      "print stripped"
     ],
     "language": "python",
     "metadata": {},
     "outputs": []
    },
    {
     "cell_type": "markdown",
     "metadata": {},
     "source": [
      "\n",
      "\n",
      "We can see that all attributes besides `time_coords` have been filtered out.\n",
      "Setting the `deep` arguments to `False` causes the copy function to reuse the\n",
      "data from the source dataset to generate the new stripped one, without\n",
      "duplicating all data in memory -- meaning both datasets now share the sample\n",
      "data and any change done to `ds` will also affect `stripped`."
     ]
    },
    {
     "cell_type": "heading",
     "level": 2,
     "metadata": {},
     "source": [
      "Intermediate Storage"
     ]
    },
    {
     "cell_type": "markdown",
     "metadata": {},
     "source": [
      "\n",
      "\n",
      "Some data preprocessing can take a long time.  One would rather prevent\n",
      "having to do it over and over again, and instead just store the preprocessed data\n",
      "into a file for subsequent analyses. PyMVPA offers functionality to store a\n",
      "large variety of objects, including datasets, into [HDF5](http://en.wikipedia.org/wiki/Hierarchical_Data_Format) files. A variant\n",
      "of this format is also used by recent versions of Matlab to store data.\n",
      "\n",
      "For HDF5 support, PyMVPA depends on the [h5py](http://h5py.alfven.org) package. If it is available,\n",
      "any dataset can be saved to a file by simply calling\n",
      "[AttrDataset.save()](http://pymvpa.org/generated/mvpa2.base.dataset.AttrDataset.html#mvpa2.base.dataset.AttrDataset.save) with the desired filename."
     ]
    },
    {
     "cell_type": "code",
     "collapsed": false,
     "input": [
      "import tempfile, shutil\n",
      "tempdir = tempfile.mkdtemp()\n",
      "ds.save(os.path.join(tempdir, 'mydataset.hdf5'))"
     ],
     "language": "python",
     "metadata": {},
     "outputs": []
    },
    {
     "cell_type": "markdown",
     "metadata": {},
     "source": [
      "\n",
      "\n",
      "HDF5 is a flexible format that also supports, for example, data\n",
      "compression. To enable it, you can pass additional arguments to\n",
      "[AttrDataset.save()](http://pymvpa.org/generated/mvpa2.base.dataset.AttrDataset.html#mvpa2.base.dataset.AttrDataset.save) that are supported by\n",
      "h5py's `Group.create_dataset()`. Instead of using\n",
      "[AttrDataset.save()](http://pymvpa.org/generated/mvpa2.base.dataset.AttrDataset.html#mvpa2.base.dataset.AttrDataset.save) one can also use the [h5save()](http://pymvpa.org/generated/mvpa2.base.hdf5.h5save.html#mvpa2-base-hdf5-h5save)\n",
      "function in a similar way. Saving the same dataset with maximum\n",
      "gzip-compression looks like this:"
     ]
    },
    {
     "cell_type": "code",
     "collapsed": false,
     "input": [
      "ds.save(os.path.join(tempdir, 'mydataset.gzipped.hdf5'), compression=9)\n",
      "h5save(os.path.join(tempdir, 'mydataset.gzipped.hdf5'), ds, compression=9)"
     ],
     "language": "python",
     "metadata": {},
     "outputs": []
    },
    {
     "cell_type": "markdown",
     "metadata": {},
     "source": [
      "\n",
      "\n",
      "Loading datasets from a file is easy too. [h5load()](http://pymvpa.org/generated/mvpa2.base.hdf5.h5load.html#mvpa2-base-hdf5-h5load) takes a filename as\n",
      "an argument and returns the stored dataset. Compressed data will be handled\n",
      "transparently."
     ]
    },
    {
     "cell_type": "code",
     "collapsed": false,
     "input": [
      "loaded = h5load(os.path.join(tempdir, 'mydataset.hdf5'))\n",
      "np.all(ds.samples == loaded.samples)"
     ],
     "language": "python",
     "metadata": {},
     "outputs": []
    },
    {
     "cell_type": "code",
     "collapsed": false,
     "input": [
      "shutil.rmtree(tempdir, ignore_errors=True)"
     ],
     "language": "python",
     "metadata": {},
     "outputs": []
    },
    {
     "cell_type": "markdown",
     "metadata": {},
     "source": [
      "\n",
      "\n",
      "Note that this type of dataset storage is not appropriate from long-term archival\n",
      "of data, as it relies on a stable software environment. For long-term storage,\n",
      "use other formats."
     ]
    }
   ],
   "metadata": {}
  }
 ]
}